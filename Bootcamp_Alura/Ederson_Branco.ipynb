{
 "cells": [
  {
   "cell_type": "markdown",
   "metadata": {
    "id": "PMs-VtfjvPKC"
   },
   "source": [
    "# Objetivo\n",
    "___"
   ]
  },
  {
   "cell_type": "markdown",
   "metadata": {
    "id": "1Z_KmFNs28wb"
   },
   "source": [
    "Detectar logo nas primeiras horas de internação se o paciente necessitará de internação em UTI.\n",
    "\n",
    "A análise proposta nesse estudo é usar a primeira janela de dados e verificar se com os primeiros exames é possível prever se o paciente precisará de UTI, pra saber se o paciente necessitou de internação em UTI foram pegos os dados da última janela \"ICU\" que diz se o paciente foi internado ou não."
   ]
  },
  {
   "cell_type": "markdown",
   "metadata": {
    "id": "bCu7cvdYu_UW"
   },
   "source": [
    "# Importações"
   ]
  },
  {
   "cell_type": "code",
   "execution_count": 1,
   "metadata": {
    "id": "DIc3sA1TvB5u"
   },
   "outputs": [],
   "source": [
    "import pandas as pd\n",
    "from sklearn.feature_selection import RFECV\n",
    "from sklearn.ensemble import RandomForestClassifier\n",
    "from sklearn.svm import SVC\n",
    "from sklearn.tree import DecisionTreeClassifier\n",
    "from sklearn.model_selection import train_test_split\n",
    "from sklearn.metrics import accuracy_score, classification_report,plot_confusion_matrix\n",
    "import matplotlib.pyplot as plt"
   ]
  },
  {
   "cell_type": "code",
   "execution_count": 2,
   "metadata": {
    "id": "7AnpktXyvDq8"
   },
   "outputs": [],
   "source": [
    "path = 'https://raw.githubusercontent.com/Ederson-Branco/Data_Science/main/Datasets/covid_19_sirio_libanes.csv'\n",
    "dados_raw = pd.read_csv(path,sep=';')"
   ]
  },
  {
   "cell_type": "markdown",
   "metadata": {
    "id": "ItAL4Y9tvF97"
   },
   "source": [
    "# Tratamento dos dados"
   ]
  },
  {
   "cell_type": "code",
   "execution_count": 3,
   "metadata": {
    "colab": {
     "base_uri": "https://localhost:8080/",
     "height": 287
    },
    "id": "y0mXfOQRvap_",
    "outputId": "5e7543f9-e200-4cde-9d84-b20449775643"
   },
   "outputs": [
    {
     "data": {
      "text/html": [
       "<div>\n",
       "<style scoped>\n",
       "    .dataframe tbody tr th:only-of-type {\n",
       "        vertical-align: middle;\n",
       "    }\n",
       "\n",
       "    .dataframe tbody tr th {\n",
       "        vertical-align: top;\n",
       "    }\n",
       "\n",
       "    .dataframe thead th {\n",
       "        text-align: right;\n",
       "    }\n",
       "</style>\n",
       "<table border=\"1\" class=\"dataframe\">\n",
       "  <thead>\n",
       "    <tr style=\"text-align: right;\">\n",
       "      <th></th>\n",
       "      <th>PATIENT_VISIT_IDENTIFIER</th>\n",
       "      <th>AGE_ABOVE65</th>\n",
       "      <th>AGE_PERCENTIL</th>\n",
       "      <th>GENDER</th>\n",
       "      <th>DISEASE GROUPING 1</th>\n",
       "      <th>DISEASE GROUPING 2</th>\n",
       "      <th>DISEASE GROUPING 3</th>\n",
       "      <th>DISEASE GROUPING 4</th>\n",
       "      <th>DISEASE GROUPING 5</th>\n",
       "      <th>DISEASE GROUPING 6</th>\n",
       "      <th>...</th>\n",
       "      <th>TEMPERATURE_DIFF</th>\n",
       "      <th>OXYGEN_SATURATION_DIFF</th>\n",
       "      <th>BLOODPRESSURE_DIASTOLIC_DIFF_REL</th>\n",
       "      <th>BLOODPRESSURE_SISTOLIC_DIFF_REL</th>\n",
       "      <th>HEART_RATE_DIFF_REL</th>\n",
       "      <th>RESPIRATORY_RATE_DIFF_REL</th>\n",
       "      <th>TEMPERATURE_DIFF_REL</th>\n",
       "      <th>OXYGEN_SATURATION_DIFF_REL</th>\n",
       "      <th>WINDOW</th>\n",
       "      <th>ICU</th>\n",
       "    </tr>\n",
       "  </thead>\n",
       "  <tbody>\n",
       "    <tr>\n",
       "      <th>0</th>\n",
       "      <td>0</td>\n",
       "      <td>1</td>\n",
       "      <td>60th</td>\n",
       "      <td>0</td>\n",
       "      <td>0.0</td>\n",
       "      <td>0.0</td>\n",
       "      <td>0.0</td>\n",
       "      <td>0.0</td>\n",
       "      <td>1.0</td>\n",
       "      <td>1.0</td>\n",
       "      <td>...</td>\n",
       "      <td>-1</td>\n",
       "      <td>-1</td>\n",
       "      <td>-1</td>\n",
       "      <td>-1</td>\n",
       "      <td>-1</td>\n",
       "      <td>-1</td>\n",
       "      <td>-1</td>\n",
       "      <td>-1</td>\n",
       "      <td>0-2</td>\n",
       "      <td>0</td>\n",
       "    </tr>\n",
       "    <tr>\n",
       "      <th>1</th>\n",
       "      <td>0</td>\n",
       "      <td>1</td>\n",
       "      <td>60th</td>\n",
       "      <td>0</td>\n",
       "      <td>0.0</td>\n",
       "      <td>0.0</td>\n",
       "      <td>0.0</td>\n",
       "      <td>0.0</td>\n",
       "      <td>1.0</td>\n",
       "      <td>1.0</td>\n",
       "      <td>...</td>\n",
       "      <td>-1</td>\n",
       "      <td>-1</td>\n",
       "      <td>-1</td>\n",
       "      <td>-1</td>\n",
       "      <td>-1</td>\n",
       "      <td>-1</td>\n",
       "      <td>-1</td>\n",
       "      <td>-1</td>\n",
       "      <td>2-4</td>\n",
       "      <td>0</td>\n",
       "    </tr>\n",
       "    <tr>\n",
       "      <th>2</th>\n",
       "      <td>0</td>\n",
       "      <td>1</td>\n",
       "      <td>60th</td>\n",
       "      <td>0</td>\n",
       "      <td>0.0</td>\n",
       "      <td>0.0</td>\n",
       "      <td>0.0</td>\n",
       "      <td>0.0</td>\n",
       "      <td>1.0</td>\n",
       "      <td>1.0</td>\n",
       "      <td>...</td>\n",
       "      <td>NaN</td>\n",
       "      <td>NaN</td>\n",
       "      <td>NaN</td>\n",
       "      <td>NaN</td>\n",
       "      <td>NaN</td>\n",
       "      <td>NaN</td>\n",
       "      <td>NaN</td>\n",
       "      <td>NaN</td>\n",
       "      <td>4-6</td>\n",
       "      <td>0</td>\n",
       "    </tr>\n",
       "    <tr>\n",
       "      <th>3</th>\n",
       "      <td>0</td>\n",
       "      <td>1</td>\n",
       "      <td>60th</td>\n",
       "      <td>0</td>\n",
       "      <td>0.0</td>\n",
       "      <td>0.0</td>\n",
       "      <td>0.0</td>\n",
       "      <td>0.0</td>\n",
       "      <td>1.0</td>\n",
       "      <td>1.0</td>\n",
       "      <td>...</td>\n",
       "      <td>-1</td>\n",
       "      <td>-1</td>\n",
       "      <td>NaN</td>\n",
       "      <td>NaN</td>\n",
       "      <td>NaN</td>\n",
       "      <td>NaN</td>\n",
       "      <td>-1</td>\n",
       "      <td>-1</td>\n",
       "      <td>6-12</td>\n",
       "      <td>0</td>\n",
       "    </tr>\n",
       "    <tr>\n",
       "      <th>4</th>\n",
       "      <td>0</td>\n",
       "      <td>1</td>\n",
       "      <td>60th</td>\n",
       "      <td>0</td>\n",
       "      <td>0.0</td>\n",
       "      <td>0.0</td>\n",
       "      <td>0.0</td>\n",
       "      <td>0.0</td>\n",
       "      <td>1.0</td>\n",
       "      <td>1.0</td>\n",
       "      <td>...</td>\n",
       "      <td>-0,238095238</td>\n",
       "      <td>-0,818181818</td>\n",
       "      <td>-0,389966555</td>\n",
       "      <td>0,407557994</td>\n",
       "      <td>-0,23046165</td>\n",
       "      <td>0,096774194</td>\n",
       "      <td>-0,242281528</td>\n",
       "      <td>-0,81443299</td>\n",
       "      <td>ABOVE_12</td>\n",
       "      <td>1</td>\n",
       "    </tr>\n",
       "  </tbody>\n",
       "</table>\n",
       "<p>5 rows × 231 columns</p>\n",
       "</div>"
      ],
      "text/plain": [
       "   PATIENT_VISIT_IDENTIFIER  AGE_ABOVE65 AGE_PERCENTIL  GENDER  \\\n",
       "0                         0            1          60th       0   \n",
       "1                         0            1          60th       0   \n",
       "2                         0            1          60th       0   \n",
       "3                         0            1          60th       0   \n",
       "4                         0            1          60th       0   \n",
       "\n",
       "   DISEASE GROUPING 1  DISEASE GROUPING 2  DISEASE GROUPING 3  \\\n",
       "0                 0.0                 0.0                 0.0   \n",
       "1                 0.0                 0.0                 0.0   \n",
       "2                 0.0                 0.0                 0.0   \n",
       "3                 0.0                 0.0                 0.0   \n",
       "4                 0.0                 0.0                 0.0   \n",
       "\n",
       "   DISEASE GROUPING 4  DISEASE GROUPING 5  DISEASE GROUPING 6  ...  \\\n",
       "0                 0.0                 1.0                 1.0  ...   \n",
       "1                 0.0                 1.0                 1.0  ...   \n",
       "2                 0.0                 1.0                 1.0  ...   \n",
       "3                 0.0                 1.0                 1.0  ...   \n",
       "4                 0.0                 1.0                 1.0  ...   \n",
       "\n",
       "   TEMPERATURE_DIFF  OXYGEN_SATURATION_DIFF  BLOODPRESSURE_DIASTOLIC_DIFF_REL  \\\n",
       "0                -1                      -1                                -1   \n",
       "1                -1                      -1                                -1   \n",
       "2               NaN                     NaN                               NaN   \n",
       "3                -1                      -1                               NaN   \n",
       "4      -0,238095238            -0,818181818                      -0,389966555   \n",
       "\n",
       "  BLOODPRESSURE_SISTOLIC_DIFF_REL HEART_RATE_DIFF_REL  \\\n",
       "0                              -1                  -1   \n",
       "1                              -1                  -1   \n",
       "2                             NaN                 NaN   \n",
       "3                             NaN                 NaN   \n",
       "4                     0,407557994         -0,23046165   \n",
       "\n",
       "  RESPIRATORY_RATE_DIFF_REL TEMPERATURE_DIFF_REL  OXYGEN_SATURATION_DIFF_REL  \\\n",
       "0                        -1                   -1                          -1   \n",
       "1                        -1                   -1                          -1   \n",
       "2                       NaN                  NaN                         NaN   \n",
       "3                       NaN                   -1                          -1   \n",
       "4               0,096774194         -0,242281528                 -0,81443299   \n",
       "\n",
       "     WINDOW ICU  \n",
       "0       0-2   0  \n",
       "1       2-4   0  \n",
       "2       4-6   0  \n",
       "3      6-12   0  \n",
       "4  ABOVE_12   1  \n",
       "\n",
       "[5 rows x 231 columns]"
      ]
     },
     "execution_count": 3,
     "metadata": {},
     "output_type": "execute_result"
    }
   ],
   "source": [
    "dados_raw.head()"
   ]
  },
  {
   "cell_type": "code",
   "execution_count": 4,
   "metadata": {
    "colab": {
     "base_uri": "https://localhost:8080/"
    },
    "id": "RDUbJhbnvwyu",
    "outputId": "464acf63-343b-42f1-df8b-b1c9894ed633"
   },
   "outputs": [
    {
     "data": {
      "text/plain": [
       "(1925, 231)"
      ]
     },
     "execution_count": 4,
     "metadata": {},
     "output_type": "execute_result"
    }
   ],
   "source": [
    "dados_raw.shape"
   ]
  },
  {
   "cell_type": "code",
   "execution_count": 5,
   "metadata": {
    "colab": {
     "base_uri": "https://localhost:8080/"
    },
    "id": "e_jWSYaW_1e9",
    "outputId": "1197e035-2200-4611-c79d-1b3fcc2b0a7a"
   },
   "outputs": [
    {
     "data": {
      "text/plain": [
       "PATIENT_VISIT_IDENTIFIER        0\n",
       "AGE_ABOVE65                     0\n",
       "AGE_PERCENTIL                   0\n",
       "GENDER                          0\n",
       "DISEASE GROUPING 1              5\n",
       "                             ... \n",
       "RESPIRATORY_RATE_DIFF_REL     748\n",
       "TEMPERATURE_DIFF_REL          694\n",
       "OXYGEN_SATURATION_DIFF_REL    686\n",
       "WINDOW                          0\n",
       "ICU                             0\n",
       "Length: 231, dtype: int64"
      ]
     },
     "execution_count": 5,
     "metadata": {},
     "output_type": "execute_result"
    }
   ],
   "source": [
    "dados_raw.isna().sum()"
   ]
  },
  {
   "cell_type": "markdown",
   "metadata": {
    "id": "HXNwgx9-MNHZ"
   },
   "source": [
    "Preenchimento dos valores nulos"
   ]
  },
  {
   "cell_type": "code",
   "execution_count": 6,
   "metadata": {
    "colab": {
     "base_uri": "https://localhost:8080/",
     "height": 142
    },
    "id": "q-VXtHa8_1ma",
    "outputId": "02084b6a-8a65-42ad-d8ca-52a7e5f8743f"
   },
   "outputs": [
    {
     "data": {
      "text/html": [
       "<div>\n",
       "<style scoped>\n",
       "    .dataframe tbody tr th:only-of-type {\n",
       "        vertical-align: middle;\n",
       "    }\n",
       "\n",
       "    .dataframe tbody tr th {\n",
       "        vertical-align: top;\n",
       "    }\n",
       "\n",
       "    .dataframe thead th {\n",
       "        text-align: right;\n",
       "    }\n",
       "</style>\n",
       "<table border=\"1\" class=\"dataframe\">\n",
       "  <thead>\n",
       "    <tr style=\"text-align: right;\">\n",
       "      <th></th>\n",
       "      <th>PATIENT_VISIT_IDENTIFIER</th>\n",
       "      <th>ALBUMIN_MEDIAN</th>\n",
       "    </tr>\n",
       "  </thead>\n",
       "  <tbody>\n",
       "    <tr>\n",
       "      <th>1919</th>\n",
       "      <td>383</td>\n",
       "      <td>0,210526316</td>\n",
       "    </tr>\n",
       "    <tr>\n",
       "      <th>1920</th>\n",
       "      <td>384</td>\n",
       "      <td>NaN</td>\n",
       "    </tr>\n",
       "    <tr>\n",
       "      <th>1921</th>\n",
       "      <td>384</td>\n",
       "      <td>0,605263158</td>\n",
       "    </tr>\n",
       "  </tbody>\n",
       "</table>\n",
       "</div>"
      ],
      "text/plain": [
       "      PATIENT_VISIT_IDENTIFIER ALBUMIN_MEDIAN\n",
       "1919                       383    0,210526316\n",
       "1920                       384            NaN\n",
       "1921                       384    0,605263158"
      ]
     },
     "execution_count": 6,
     "metadata": {},
     "output_type": "execute_result"
    }
   ],
   "source": [
    "'''\n",
    "Utilizado o método \"bfill\" pois o \"ffill\" irá pegar os dados do paciente anterior \n",
    "quando a primeira janela possuir valores nulos \n",
    "'''\n",
    "\n",
    "dados_raw.iloc[1919:1922][['PATIENT_VISIT_IDENTIFIER','ALBUMIN_MEDIAN']]"
   ]
  },
  {
   "cell_type": "code",
   "execution_count": 7,
   "metadata": {
    "colab": {
     "base_uri": "https://localhost:8080/",
     "height": 142
    },
    "id": "ryxJnUrV_1hl",
    "outputId": "f5466ca1-77f2-4116-a7f2-d36f4b1c53a7"
   },
   "outputs": [
    {
     "data": {
      "text/html": [
       "<div>\n",
       "<style scoped>\n",
       "    .dataframe tbody tr th:only-of-type {\n",
       "        vertical-align: middle;\n",
       "    }\n",
       "\n",
       "    .dataframe tbody tr th {\n",
       "        vertical-align: top;\n",
       "    }\n",
       "\n",
       "    .dataframe thead th {\n",
       "        text-align: right;\n",
       "    }\n",
       "</style>\n",
       "<table border=\"1\" class=\"dataframe\">\n",
       "  <thead>\n",
       "    <tr style=\"text-align: right;\">\n",
       "      <th></th>\n",
       "      <th>PATIENT_VISIT_IDENTIFIER</th>\n",
       "      <th>ALBUMIN_MEDIAN</th>\n",
       "    </tr>\n",
       "  </thead>\n",
       "  <tbody>\n",
       "    <tr>\n",
       "      <th>1919</th>\n",
       "      <td>383</td>\n",
       "      <td>0,210526316</td>\n",
       "    </tr>\n",
       "    <tr>\n",
       "      <th>1920</th>\n",
       "      <td>384</td>\n",
       "      <td>0,605263158</td>\n",
       "    </tr>\n",
       "    <tr>\n",
       "      <th>1921</th>\n",
       "      <td>384</td>\n",
       "      <td>0,605263158</td>\n",
       "    </tr>\n",
       "  </tbody>\n",
       "</table>\n",
       "</div>"
      ],
      "text/plain": [
       "      PATIENT_VISIT_IDENTIFIER ALBUMIN_MEDIAN\n",
       "1919                       383    0,210526316\n",
       "1920                       384    0,605263158\n",
       "1921                       384    0,605263158"
      ]
     },
     "execution_count": 7,
     "metadata": {},
     "output_type": "execute_result"
    }
   ],
   "source": [
    "dados_bfill = dados_raw.copy()\n",
    "dados_bfill.fillna(method='bfill',inplace=True) \n",
    "dados_bfill.iloc[1919:1922][['PATIENT_VISIT_IDENTIFIER','ALBUMIN_MEDIAN']]"
   ]
  },
  {
   "cell_type": "markdown",
   "metadata": {
    "id": "4GveSFpaYLN9"
   },
   "source": [
    "Seleção dos dados, janela 0-2"
   ]
  },
  {
   "cell_type": "code",
   "execution_count": 8,
   "metadata": {
    "colab": {
     "base_uri": "https://localhost:8080/",
     "height": 473
    },
    "id": "m1OfxxxQx81V",
    "outputId": "3a095861-6b7b-4d88-d849-880b9721c6ef"
   },
   "outputs": [
    {
     "data": {
      "text/html": [
       "<div>\n",
       "<style scoped>\n",
       "    .dataframe tbody tr th:only-of-type {\n",
       "        vertical-align: middle;\n",
       "    }\n",
       "\n",
       "    .dataframe tbody tr th {\n",
       "        vertical-align: top;\n",
       "    }\n",
       "\n",
       "    .dataframe thead th {\n",
       "        text-align: right;\n",
       "    }\n",
       "</style>\n",
       "<table border=\"1\" class=\"dataframe\">\n",
       "  <thead>\n",
       "    <tr style=\"text-align: right;\">\n",
       "      <th></th>\n",
       "      <th>PATIENT_VISIT_IDENTIFIER</th>\n",
       "      <th>AGE_ABOVE65</th>\n",
       "      <th>AGE_PERCENTIL</th>\n",
       "      <th>GENDER</th>\n",
       "      <th>DISEASE GROUPING 1</th>\n",
       "      <th>DISEASE GROUPING 2</th>\n",
       "      <th>DISEASE GROUPING 3</th>\n",
       "      <th>DISEASE GROUPING 4</th>\n",
       "      <th>DISEASE GROUPING 5</th>\n",
       "      <th>DISEASE GROUPING 6</th>\n",
       "      <th>...</th>\n",
       "      <th>TEMPERATURE_DIFF</th>\n",
       "      <th>OXYGEN_SATURATION_DIFF</th>\n",
       "      <th>BLOODPRESSURE_DIASTOLIC_DIFF_REL</th>\n",
       "      <th>BLOODPRESSURE_SISTOLIC_DIFF_REL</th>\n",
       "      <th>HEART_RATE_DIFF_REL</th>\n",
       "      <th>RESPIRATORY_RATE_DIFF_REL</th>\n",
       "      <th>TEMPERATURE_DIFF_REL</th>\n",
       "      <th>OXYGEN_SATURATION_DIFF_REL</th>\n",
       "      <th>WINDOW</th>\n",
       "      <th>ICU</th>\n",
       "    </tr>\n",
       "  </thead>\n",
       "  <tbody>\n",
       "    <tr>\n",
       "      <th>0</th>\n",
       "      <td>0</td>\n",
       "      <td>1</td>\n",
       "      <td>60th</td>\n",
       "      <td>0</td>\n",
       "      <td>0.0</td>\n",
       "      <td>0.0</td>\n",
       "      <td>0.0</td>\n",
       "      <td>0.0</td>\n",
       "      <td>1.0</td>\n",
       "      <td>1.0</td>\n",
       "      <td>...</td>\n",
       "      <td>-1</td>\n",
       "      <td>-1</td>\n",
       "      <td>-1</td>\n",
       "      <td>-1</td>\n",
       "      <td>-1</td>\n",
       "      <td>-1</td>\n",
       "      <td>-1</td>\n",
       "      <td>-1</td>\n",
       "      <td>0-2</td>\n",
       "      <td>0</td>\n",
       "    </tr>\n",
       "    <tr>\n",
       "      <th>1</th>\n",
       "      <td>1</td>\n",
       "      <td>1</td>\n",
       "      <td>90th</td>\n",
       "      <td>1</td>\n",
       "      <td>0.0</td>\n",
       "      <td>0.0</td>\n",
       "      <td>0.0</td>\n",
       "      <td>0.0</td>\n",
       "      <td>0.0</td>\n",
       "      <td>0.0</td>\n",
       "      <td>...</td>\n",
       "      <td>-1</td>\n",
       "      <td>-1</td>\n",
       "      <td>-1</td>\n",
       "      <td>-1</td>\n",
       "      <td>-1</td>\n",
       "      <td>-1</td>\n",
       "      <td>-1</td>\n",
       "      <td>-1</td>\n",
       "      <td>0-2</td>\n",
       "      <td>1</td>\n",
       "    </tr>\n",
       "    <tr>\n",
       "      <th>2</th>\n",
       "      <td>2</td>\n",
       "      <td>0</td>\n",
       "      <td>10th</td>\n",
       "      <td>0</td>\n",
       "      <td>0.0</td>\n",
       "      <td>0.0</td>\n",
       "      <td>0.0</td>\n",
       "      <td>0.0</td>\n",
       "      <td>0.0</td>\n",
       "      <td>0.0</td>\n",
       "      <td>...</td>\n",
       "      <td>-1</td>\n",
       "      <td>-0,95959596</td>\n",
       "      <td>-0,51552795</td>\n",
       "      <td>-0,351327692</td>\n",
       "      <td>-0,747001091</td>\n",
       "      <td>-0,756272401</td>\n",
       "      <td>-1</td>\n",
       "      <td>-0,961262106</td>\n",
       "      <td>0-2</td>\n",
       "      <td>0</td>\n",
       "    </tr>\n",
       "    <tr>\n",
       "      <th>3</th>\n",
       "      <td>3</td>\n",
       "      <td>0</td>\n",
       "      <td>40th</td>\n",
       "      <td>1</td>\n",
       "      <td>0.0</td>\n",
       "      <td>0.0</td>\n",
       "      <td>0.0</td>\n",
       "      <td>0.0</td>\n",
       "      <td>0.0</td>\n",
       "      <td>0.0</td>\n",
       "      <td>...</td>\n",
       "      <td>-1</td>\n",
       "      <td>-1</td>\n",
       "      <td>-1</td>\n",
       "      <td>-1</td>\n",
       "      <td>-1</td>\n",
       "      <td>-1</td>\n",
       "      <td>-1</td>\n",
       "      <td>-1</td>\n",
       "      <td>0-2</td>\n",
       "      <td>0</td>\n",
       "    </tr>\n",
       "    <tr>\n",
       "      <th>4</th>\n",
       "      <td>4</td>\n",
       "      <td>0</td>\n",
       "      <td>10th</td>\n",
       "      <td>0</td>\n",
       "      <td>0.0</td>\n",
       "      <td>0.0</td>\n",
       "      <td>0.0</td>\n",
       "      <td>0.0</td>\n",
       "      <td>0.0</td>\n",
       "      <td>0.0</td>\n",
       "      <td>...</td>\n",
       "      <td>-0,952380952</td>\n",
       "      <td>-0,97979798</td>\n",
       "      <td>-1</td>\n",
       "      <td>-0,883668904</td>\n",
       "      <td>-0,956805064</td>\n",
       "      <td>-0,870967742</td>\n",
       "      <td>-0,953536131</td>\n",
       "      <td>-0,980333069</td>\n",
       "      <td>0-2</td>\n",
       "      <td>0</td>\n",
       "    </tr>\n",
       "    <tr>\n",
       "      <th>...</th>\n",
       "      <td>...</td>\n",
       "      <td>...</td>\n",
       "      <td>...</td>\n",
       "      <td>...</td>\n",
       "      <td>...</td>\n",
       "      <td>...</td>\n",
       "      <td>...</td>\n",
       "      <td>...</td>\n",
       "      <td>...</td>\n",
       "      <td>...</td>\n",
       "      <td>...</td>\n",
       "      <td>...</td>\n",
       "      <td>...</td>\n",
       "      <td>...</td>\n",
       "      <td>...</td>\n",
       "      <td>...</td>\n",
       "      <td>...</td>\n",
       "      <td>...</td>\n",
       "      <td>...</td>\n",
       "      <td>...</td>\n",
       "      <td>...</td>\n",
       "    </tr>\n",
       "    <tr>\n",
       "      <th>380</th>\n",
       "      <td>380</td>\n",
       "      <td>0</td>\n",
       "      <td>40th</td>\n",
       "      <td>1</td>\n",
       "      <td>0.0</td>\n",
       "      <td>0.0</td>\n",
       "      <td>0.0</td>\n",
       "      <td>0.0</td>\n",
       "      <td>0.0</td>\n",
       "      <td>0.0</td>\n",
       "      <td>...</td>\n",
       "      <td>-1</td>\n",
       "      <td>-1</td>\n",
       "      <td>-1</td>\n",
       "      <td>-1</td>\n",
       "      <td>-1</td>\n",
       "      <td>-1</td>\n",
       "      <td>-1</td>\n",
       "      <td>-1</td>\n",
       "      <td>0-2</td>\n",
       "      <td>0</td>\n",
       "    </tr>\n",
       "    <tr>\n",
       "      <th>381</th>\n",
       "      <td>381</td>\n",
       "      <td>1</td>\n",
       "      <td>Above 90th</td>\n",
       "      <td>0</td>\n",
       "      <td>0.0</td>\n",
       "      <td>0.0</td>\n",
       "      <td>0.0</td>\n",
       "      <td>0.0</td>\n",
       "      <td>0.0</td>\n",
       "      <td>0.0</td>\n",
       "      <td>...</td>\n",
       "      <td>-0,619047619</td>\n",
       "      <td>-1</td>\n",
       "      <td>-1</td>\n",
       "      <td>-1</td>\n",
       "      <td>-1</td>\n",
       "      <td>-1</td>\n",
       "      <td>-0,612627073</td>\n",
       "      <td>-1</td>\n",
       "      <td>0-2</td>\n",
       "      <td>0</td>\n",
       "    </tr>\n",
       "    <tr>\n",
       "      <th>382</th>\n",
       "      <td>382</td>\n",
       "      <td>0</td>\n",
       "      <td>50th</td>\n",
       "      <td>0</td>\n",
       "      <td>0.0</td>\n",
       "      <td>0.0</td>\n",
       "      <td>0.0</td>\n",
       "      <td>0.0</td>\n",
       "      <td>0.0</td>\n",
       "      <td>0.0</td>\n",
       "      <td>...</td>\n",
       "      <td>-1</td>\n",
       "      <td>-1</td>\n",
       "      <td>-1</td>\n",
       "      <td>-1</td>\n",
       "      <td>-1</td>\n",
       "      <td>-1</td>\n",
       "      <td>-1</td>\n",
       "      <td>-1</td>\n",
       "      <td>0-2</td>\n",
       "      <td>0</td>\n",
       "    </tr>\n",
       "    <tr>\n",
       "      <th>383</th>\n",
       "      <td>383</td>\n",
       "      <td>0</td>\n",
       "      <td>40th</td>\n",
       "      <td>1</td>\n",
       "      <td>0.0</td>\n",
       "      <td>0.0</td>\n",
       "      <td>0.0</td>\n",
       "      <td>0.0</td>\n",
       "      <td>0.0</td>\n",
       "      <td>0.0</td>\n",
       "      <td>...</td>\n",
       "      <td>-1</td>\n",
       "      <td>-1</td>\n",
       "      <td>-1</td>\n",
       "      <td>-1</td>\n",
       "      <td>-1</td>\n",
       "      <td>-1</td>\n",
       "      <td>-1</td>\n",
       "      <td>-1</td>\n",
       "      <td>0-2</td>\n",
       "      <td>0</td>\n",
       "    </tr>\n",
       "    <tr>\n",
       "      <th>384</th>\n",
       "      <td>384</td>\n",
       "      <td>0</td>\n",
       "      <td>50th</td>\n",
       "      <td>1</td>\n",
       "      <td>0.0</td>\n",
       "      <td>0.0</td>\n",
       "      <td>0.0</td>\n",
       "      <td>0.0</td>\n",
       "      <td>0.0</td>\n",
       "      <td>0.0</td>\n",
       "      <td>...</td>\n",
       "      <td>-1</td>\n",
       "      <td>-1</td>\n",
       "      <td>-1</td>\n",
       "      <td>-1</td>\n",
       "      <td>-1</td>\n",
       "      <td>-1</td>\n",
       "      <td>-1</td>\n",
       "      <td>-1</td>\n",
       "      <td>0-2</td>\n",
       "      <td>0</td>\n",
       "    </tr>\n",
       "  </tbody>\n",
       "</table>\n",
       "<p>385 rows × 231 columns</p>\n",
       "</div>"
      ],
      "text/plain": [
       "     PATIENT_VISIT_IDENTIFIER  AGE_ABOVE65 AGE_PERCENTIL  GENDER  \\\n",
       "0                           0            1          60th       0   \n",
       "1                           1            1          90th       1   \n",
       "2                           2            0          10th       0   \n",
       "3                           3            0          40th       1   \n",
       "4                           4            0          10th       0   \n",
       "..                        ...          ...           ...     ...   \n",
       "380                       380            0          40th       1   \n",
       "381                       381            1    Above 90th       0   \n",
       "382                       382            0          50th       0   \n",
       "383                       383            0          40th       1   \n",
       "384                       384            0          50th       1   \n",
       "\n",
       "     DISEASE GROUPING 1  DISEASE GROUPING 2  DISEASE GROUPING 3  \\\n",
       "0                   0.0                 0.0                 0.0   \n",
       "1                   0.0                 0.0                 0.0   \n",
       "2                   0.0                 0.0                 0.0   \n",
       "3                   0.0                 0.0                 0.0   \n",
       "4                   0.0                 0.0                 0.0   \n",
       "..                  ...                 ...                 ...   \n",
       "380                 0.0                 0.0                 0.0   \n",
       "381                 0.0                 0.0                 0.0   \n",
       "382                 0.0                 0.0                 0.0   \n",
       "383                 0.0                 0.0                 0.0   \n",
       "384                 0.0                 0.0                 0.0   \n",
       "\n",
       "     DISEASE GROUPING 4  DISEASE GROUPING 5  DISEASE GROUPING 6  ...  \\\n",
       "0                   0.0                 1.0                 1.0  ...   \n",
       "1                   0.0                 0.0                 0.0  ...   \n",
       "2                   0.0                 0.0                 0.0  ...   \n",
       "3                   0.0                 0.0                 0.0  ...   \n",
       "4                   0.0                 0.0                 0.0  ...   \n",
       "..                  ...                 ...                 ...  ...   \n",
       "380                 0.0                 0.0                 0.0  ...   \n",
       "381                 0.0                 0.0                 0.0  ...   \n",
       "382                 0.0                 0.0                 0.0  ...   \n",
       "383                 0.0                 0.0                 0.0  ...   \n",
       "384                 0.0                 0.0                 0.0  ...   \n",
       "\n",
       "     TEMPERATURE_DIFF  OXYGEN_SATURATION_DIFF  \\\n",
       "0                  -1                      -1   \n",
       "1                  -1                      -1   \n",
       "2                  -1             -0,95959596   \n",
       "3                  -1                      -1   \n",
       "4        -0,952380952             -0,97979798   \n",
       "..                ...                     ...   \n",
       "380                -1                      -1   \n",
       "381      -0,619047619                      -1   \n",
       "382                -1                      -1   \n",
       "383                -1                      -1   \n",
       "384                -1                      -1   \n",
       "\n",
       "     BLOODPRESSURE_DIASTOLIC_DIFF_REL BLOODPRESSURE_SISTOLIC_DIFF_REL  \\\n",
       "0                                  -1                              -1   \n",
       "1                                  -1                              -1   \n",
       "2                         -0,51552795                    -0,351327692   \n",
       "3                                  -1                              -1   \n",
       "4                                  -1                    -0,883668904   \n",
       "..                                ...                             ...   \n",
       "380                                -1                              -1   \n",
       "381                                -1                              -1   \n",
       "382                                -1                              -1   \n",
       "383                                -1                              -1   \n",
       "384                                -1                              -1   \n",
       "\n",
       "    HEART_RATE_DIFF_REL RESPIRATORY_RATE_DIFF_REL TEMPERATURE_DIFF_REL  \\\n",
       "0                    -1                        -1                   -1   \n",
       "1                    -1                        -1                   -1   \n",
       "2          -0,747001091              -0,756272401                   -1   \n",
       "3                    -1                        -1                   -1   \n",
       "4          -0,956805064              -0,870967742         -0,953536131   \n",
       "..                  ...                       ...                  ...   \n",
       "380                  -1                        -1                   -1   \n",
       "381                  -1                        -1         -0,612627073   \n",
       "382                  -1                        -1                   -1   \n",
       "383                  -1                        -1                   -1   \n",
       "384                  -1                        -1                   -1   \n",
       "\n",
       "     OXYGEN_SATURATION_DIFF_REL WINDOW ICU  \n",
       "0                            -1    0-2   0  \n",
       "1                            -1    0-2   1  \n",
       "2                  -0,961262106    0-2   0  \n",
       "3                            -1    0-2   0  \n",
       "4                  -0,980333069    0-2   0  \n",
       "..                          ...    ...  ..  \n",
       "380                          -1    0-2   0  \n",
       "381                          -1    0-2   0  \n",
       "382                          -1    0-2   0  \n",
       "383                          -1    0-2   0  \n",
       "384                          -1    0-2   0  \n",
       "\n",
       "[385 rows x 231 columns]"
      ]
     },
     "execution_count": 8,
     "metadata": {},
     "output_type": "execute_result"
    }
   ],
   "source": [
    "dados = dados_bfill.query('WINDOW == \"0-2\"').reset_index().drop(columns='index')\n",
    "dados"
   ]
  },
  {
   "cell_type": "markdown",
   "metadata": {
    "id": "U-neLe4VYViA"
   },
   "source": [
    "Seleção do target, onde a escolha foi o último dado por paciente do campo \"ICU\".\n",
    "\n",
    "Conforme orientação do hospital Sírio-Líbanês os dados da janela \"ABOVE_12\" não devem ser usados no modelo, nesse caso foram pegos os dados da janela \"6-12\""
   ]
  },
  {
   "cell_type": "code",
   "execution_count": 9,
   "metadata": {
    "colab": {
     "base_uri": "https://localhost:8080/",
     "height": 419
    },
    "id": "B2scSI9W6s79",
    "outputId": "a533abac-902d-47f2-a864-376b3f470617"
   },
   "outputs": [
    {
     "data": {
      "text/html": [
       "<div>\n",
       "<style scoped>\n",
       "    .dataframe tbody tr th:only-of-type {\n",
       "        vertical-align: middle;\n",
       "    }\n",
       "\n",
       "    .dataframe tbody tr th {\n",
       "        vertical-align: top;\n",
       "    }\n",
       "\n",
       "    .dataframe thead th {\n",
       "        text-align: right;\n",
       "    }\n",
       "</style>\n",
       "<table border=\"1\" class=\"dataframe\">\n",
       "  <thead>\n",
       "    <tr style=\"text-align: right;\">\n",
       "      <th></th>\n",
       "      <th>ICU</th>\n",
       "    </tr>\n",
       "  </thead>\n",
       "  <tbody>\n",
       "    <tr>\n",
       "      <th>0</th>\n",
       "      <td>0</td>\n",
       "    </tr>\n",
       "    <tr>\n",
       "      <th>1</th>\n",
       "      <td>1</td>\n",
       "    </tr>\n",
       "    <tr>\n",
       "      <th>2</th>\n",
       "      <td>0</td>\n",
       "    </tr>\n",
       "    <tr>\n",
       "      <th>3</th>\n",
       "      <td>0</td>\n",
       "    </tr>\n",
       "    <tr>\n",
       "      <th>4</th>\n",
       "      <td>0</td>\n",
       "    </tr>\n",
       "    <tr>\n",
       "      <th>...</th>\n",
       "      <td>...</td>\n",
       "    </tr>\n",
       "    <tr>\n",
       "      <th>380</th>\n",
       "      <td>0</td>\n",
       "    </tr>\n",
       "    <tr>\n",
       "      <th>381</th>\n",
       "      <td>0</td>\n",
       "    </tr>\n",
       "    <tr>\n",
       "      <th>382</th>\n",
       "      <td>0</td>\n",
       "    </tr>\n",
       "    <tr>\n",
       "      <th>383</th>\n",
       "      <td>0</td>\n",
       "    </tr>\n",
       "    <tr>\n",
       "      <th>384</th>\n",
       "      <td>0</td>\n",
       "    </tr>\n",
       "  </tbody>\n",
       "</table>\n",
       "<p>385 rows × 1 columns</p>\n",
       "</div>"
      ],
      "text/plain": [
       "     ICU\n",
       "0      0\n",
       "1      1\n",
       "2      0\n",
       "3      0\n",
       "4      0\n",
       "..   ...\n",
       "380    0\n",
       "381    0\n",
       "382    0\n",
       "383    0\n",
       "384    0\n",
       "\n",
       "[385 rows x 1 columns]"
      ]
     },
     "execution_count": 9,
     "metadata": {},
     "output_type": "execute_result"
    }
   ],
   "source": [
    "target = dados_raw.query('WINDOW == \"6-12\"')[['ICU']]\n",
    "target = target.reset_index().drop(columns='index')\n",
    "target"
   ]
  },
  {
   "cell_type": "code",
   "execution_count": 10,
   "metadata": {
    "colab": {
     "base_uri": "https://localhost:8080/",
     "height": 142
    },
    "id": "MbMQxovH8bLw",
    "outputId": "ea3a713f-6d29-471e-81e8-f14bc607ffcb"
   },
   "outputs": [
    {
     "ename": "AttributeError",
     "evalue": "'DataFrame' object has no attribute 'value_counts'",
     "output_type": "error",
     "traceback": [
      "\u001b[0;31m---------------------------------------------------------------------------\u001b[0m",
      "\u001b[0;31mAttributeError\u001b[0m                            Traceback (most recent call last)",
      "\u001b[0;32m<ipython-input-10-28976e6d1f13>\u001b[0m in \u001b[0;36m<module>\u001b[0;34m\u001b[0m\n\u001b[0;32m----> 1\u001b[0;31m \u001b[0mfrequencia\u001b[0m \u001b[0;34m=\u001b[0m \u001b[0mtarget\u001b[0m\u001b[0;34m.\u001b[0m\u001b[0mvalue_counts\u001b[0m\u001b[0;34m(\u001b[0m\u001b[0;34m)\u001b[0m\u001b[0;34m\u001b[0m\u001b[0;34m\u001b[0m\u001b[0m\n\u001b[0m\u001b[1;32m      2\u001b[0m \u001b[0mpercentual\u001b[0m \u001b[0;34m=\u001b[0m \u001b[0mtarget\u001b[0m\u001b[0;34m.\u001b[0m\u001b[0mvalue_counts\u001b[0m\u001b[0;34m(\u001b[0m\u001b[0mnormalize\u001b[0m\u001b[0;34m=\u001b[0m\u001b[0;32mTrue\u001b[0m\u001b[0;34m)\u001b[0m \u001b[0;34m*\u001b[0m \u001b[0;36m100\u001b[0m\u001b[0;34m\u001b[0m\u001b[0;34m\u001b[0m\u001b[0m\n\u001b[1;32m      3\u001b[0m \u001b[0mdist_frequencia\u001b[0m \u001b[0;34m=\u001b[0m \u001b[0mpd\u001b[0m\u001b[0;34m.\u001b[0m\u001b[0mDataFrame\u001b[0m\u001b[0;34m(\u001b[0m\u001b[0;34m{\u001b[0m\u001b[0;34m'Frequencia'\u001b[0m\u001b[0;34m:\u001b[0m\u001b[0mfrequencia\u001b[0m\u001b[0;34m,\u001b[0m\u001b[0;34m'Percentual (%)'\u001b[0m\u001b[0;34m:\u001b[0m\u001b[0mpercentual\u001b[0m\u001b[0;34m.\u001b[0m\u001b[0mround\u001b[0m\u001b[0;34m(\u001b[0m\u001b[0;36m2\u001b[0m\u001b[0;34m)\u001b[0m\u001b[0;34m}\u001b[0m\u001b[0;34m)\u001b[0m\u001b[0;34m\u001b[0m\u001b[0;34m\u001b[0m\u001b[0m\n\u001b[1;32m      4\u001b[0m \u001b[0mdist_frequencia\u001b[0m\u001b[0;34m\u001b[0m\u001b[0;34m\u001b[0m\u001b[0m\n",
      "\u001b[0;32m~/opt/anaconda3/lib/python3.8/site-packages/pandas/core/generic.py\u001b[0m in \u001b[0;36m__getattr__\u001b[0;34m(self, name)\u001b[0m\n\u001b[1;32m   5272\u001b[0m             \u001b[0;32mif\u001b[0m \u001b[0mself\u001b[0m\u001b[0;34m.\u001b[0m\u001b[0m_info_axis\u001b[0m\u001b[0;34m.\u001b[0m\u001b[0m_can_hold_identifiers_and_holds_name\u001b[0m\u001b[0;34m(\u001b[0m\u001b[0mname\u001b[0m\u001b[0;34m)\u001b[0m\u001b[0;34m:\u001b[0m\u001b[0;34m\u001b[0m\u001b[0;34m\u001b[0m\u001b[0m\n\u001b[1;32m   5273\u001b[0m                 \u001b[0;32mreturn\u001b[0m \u001b[0mself\u001b[0m\u001b[0;34m[\u001b[0m\u001b[0mname\u001b[0m\u001b[0;34m]\u001b[0m\u001b[0;34m\u001b[0m\u001b[0;34m\u001b[0m\u001b[0m\n\u001b[0;32m-> 5274\u001b[0;31m             \u001b[0;32mreturn\u001b[0m \u001b[0mobject\u001b[0m\u001b[0;34m.\u001b[0m\u001b[0m__getattribute__\u001b[0m\u001b[0;34m(\u001b[0m\u001b[0mself\u001b[0m\u001b[0;34m,\u001b[0m \u001b[0mname\u001b[0m\u001b[0;34m)\u001b[0m\u001b[0;34m\u001b[0m\u001b[0;34m\u001b[0m\u001b[0m\n\u001b[0m\u001b[1;32m   5275\u001b[0m \u001b[0;34m\u001b[0m\u001b[0m\n\u001b[1;32m   5276\u001b[0m     \u001b[0;32mdef\u001b[0m \u001b[0m__setattr__\u001b[0m\u001b[0;34m(\u001b[0m\u001b[0mself\u001b[0m\u001b[0;34m,\u001b[0m \u001b[0mname\u001b[0m\u001b[0;34m:\u001b[0m \u001b[0mstr\u001b[0m\u001b[0;34m,\u001b[0m \u001b[0mvalue\u001b[0m\u001b[0;34m)\u001b[0m \u001b[0;34m->\u001b[0m \u001b[0;32mNone\u001b[0m\u001b[0;34m:\u001b[0m\u001b[0;34m\u001b[0m\u001b[0;34m\u001b[0m\u001b[0m\n",
      "\u001b[0;31mAttributeError\u001b[0m: 'DataFrame' object has no attribute 'value_counts'"
     ]
    }
   ],
   "source": [
    "frequencia = target.value_counts()\n",
    "percentual = target.value_counts(normalize=True) * 100\n",
    "dist_frequencia = pd.DataFrame({'Frequencia':frequencia,'Percentual (%)':percentual.round(2)})\n",
    "dist_frequencia"
   ]
  },
  {
   "cell_type": "code",
   "execution_count": null,
   "metadata": {
    "colab": {
     "base_uri": "https://localhost:8080/",
     "height": 295
    },
    "id": "1ef-fPsFKcGn",
    "outputId": "ba6df665-1f96-4a8b-9965-3642bf77e171"
   },
   "outputs": [],
   "source": [
    "frequencia.plot(kind='bar')\n",
    "plt.title('Frequencia de internação em UTI')\n",
    "plt.xticks(rotation=0)\n",
    "plt.xlabel('Internação')\n",
    "plt.show()"
   ]
  },
  {
   "cell_type": "code",
   "execution_count": null,
   "metadata": {
    "colab": {
     "base_uri": "https://localhost:8080/",
     "height": 504
    },
    "id": "nE5g9vT57K1C",
    "outputId": "a0444bb9-2589-4f2d-a813-056248a74107"
   },
   "outputs": [],
   "source": [
    "dados = dados.drop(columns=['WINDOW','ICU','AGE_PERCENTIL'])\n",
    "dados['target'] = target\n",
    "dados.set_index('PATIENT_VISIT_IDENTIFIER',inplace=True,drop=True)\n",
    "dados"
   ]
  },
  {
   "cell_type": "code",
   "execution_count": null,
   "metadata": {
    "colab": {
     "base_uri": "https://localhost:8080/"
    },
    "id": "wUoFefEe7lNb",
    "outputId": "76f00d3a-02ce-4817-a990-800ab6662355"
   },
   "outputs": [],
   "source": [
    "dados.info()"
   ]
  },
  {
   "cell_type": "markdown",
   "metadata": {
    "id": "fM7pgS_Rqo35"
   },
   "source": [
    "convertendo object para float"
   ]
  },
  {
   "cell_type": "code",
   "execution_count": null,
   "metadata": {
    "colab": {
     "base_uri": "https://localhost:8080/"
    },
    "id": "Z76xV0b4DuCb",
    "outputId": "6d9074cf-a979-434f-ef48-010ad7d79208"
   },
   "outputs": [],
   "source": [
    "selecao = dados.select_dtypes(include='object').columns\n",
    "\n",
    "for i in selecao:\n",
    "  dados[i] = dados[i].str.replace(',','.').astype(float)\n",
    "\n",
    "\n",
    "dados.info()"
   ]
  },
  {
   "cell_type": "code",
   "execution_count": null,
   "metadata": {
    "colab": {
     "base_uri": "https://localhost:8080/",
     "height": 504
    },
    "id": "JGfuQZorDuHN",
    "outputId": "b555160e-c046-4c8a-bcea-0054b82a4f34"
   },
   "outputs": [],
   "source": [
    "dados"
   ]
  },
  {
   "cell_type": "markdown",
   "metadata": {
    "id": "8pWXw-cpRJJH"
   },
   "source": [
    "# Separação dos dados para treino, teste e validação"
   ]
  },
  {
   "cell_type": "code",
   "execution_count": null,
   "metadata": {
    "id": "Y4jMa1zLH9Na"
   },
   "outputs": [],
   "source": [
    "X = dados.iloc[:300,0:-1]\n",
    "y = dados['target'][0:300]\n",
    "validacao = dados[300:]"
   ]
  },
  {
   "cell_type": "markdown",
   "metadata": {
    "id": "8wQnZWh9rvPF"
   },
   "source": [
    "# Seleção das features"
   ]
  },
  {
   "cell_type": "markdown",
   "metadata": {
    "id": "CilQwllZSP4o"
   },
   "source": [
    "Seleção automática através do feature_selection.RFECV"
   ]
  },
  {
   "cell_type": "code",
   "execution_count": null,
   "metadata": {
    "id": "7EhQ0jSTKBm4"
   },
   "outputs": [],
   "source": [
    "modelo = RandomForestClassifier(random_state=42,n_estimators=100)"
   ]
  },
  {
   "cell_type": "code",
   "execution_count": null,
   "metadata": {
    "id": "MoCST7DjKBpS"
   },
   "outputs": [],
   "source": [
    "treino_x, teste_x, treino_y, teste_y = train_test_split(X,y, random_state=42, test_size=0.3)"
   ]
  },
  {
   "cell_type": "code",
   "execution_count": null,
   "metadata": {
    "colab": {
     "base_uri": "https://localhost:8080/"
    },
    "id": "0NaMRxw6KBrb",
    "outputId": "bcdbf38c-8e01-4afc-a014-521847b39883"
   },
   "outputs": [],
   "source": [
    "modelo.fit(treino_x,treino_y)"
   ]
  },
  {
   "cell_type": "code",
   "execution_count": null,
   "metadata": {
    "colab": {
     "base_uri": "https://localhost:8080/"
    },
    "id": "SDidYn6VKBuM",
    "outputId": "6d3ca2d7-c7f1-421d-cf14-56755b52eefc"
   },
   "outputs": [],
   "source": [
    "# modelo + RFECV\n",
    "selecionador = RFECV(estimator=modelo,cv=5,step=1, scoring='accuracy')\n",
    "\n",
    "# .fit RFECV\n",
    "selecionador.fit(treino_x,treino_y)\n",
    "treino_rfecv = selecionador.transform(treino_x)\n",
    "teste_rfecv = selecionador.transform(teste_x)\n",
    "\n",
    "# .fit modelo\n",
    "modelo.fit(treino_rfecv,treino_y)\n",
    "\n",
    "# Score\n",
    "modelo.score(teste_rfecv,teste_y)"
   ]
  },
  {
   "cell_type": "code",
   "execution_count": null,
   "metadata": {
    "id": "OCGOWhKgKBwz"
   },
   "outputs": [],
   "source": [
    "selecao = X.columns[selecionador.support_]"
   ]
  },
  {
   "cell_type": "code",
   "execution_count": null,
   "metadata": {
    "id": "tXN_fIz4L3kr"
   },
   "outputs": [],
   "source": [
    "validacao = validacao[selecao]\n",
    "dados = dados[selecao]"
   ]
  },
  {
   "cell_type": "code",
   "execution_count": null,
   "metadata": {
    "colab": {
     "base_uri": "https://localhost:8080/"
    },
    "id": "5xaMuZIDANuZ",
    "outputId": "a493daea-64d3-4cad-b09c-49bf13ad6583"
   },
   "outputs": [],
   "source": [
    "X.columns[selecionador.support_]"
   ]
  },
  {
   "cell_type": "markdown",
   "metadata": {
    "id": "35OvJ3CESfWr"
   },
   "source": [
    "Colunas restantes após a seleção automática de features"
   ]
  },
  {
   "cell_type": "code",
   "execution_count": null,
   "metadata": {
    "colab": {
     "base_uri": "https://localhost:8080/"
    },
    "id": "pxtZFKUjOOKb",
    "outputId": "1d9eb682-6933-44b5-ff1c-a0da289c21b0"
   },
   "outputs": [],
   "source": [
    "dados.info()"
   ]
  },
  {
   "cell_type": "code",
   "execution_count": null,
   "metadata": {
    "id": "PdjiXW4R9tvR"
   },
   "outputs": [],
   "source": [
    "X = dados.iloc[:300]"
   ]
  },
  {
   "cell_type": "markdown",
   "metadata": {
    "id": "ahVyCkJFTPsr"
   },
   "source": [
    "# Seleção do melhor modelo"
   ]
  },
  {
   "cell_type": "code",
   "execution_count": null,
   "metadata": {
    "id": "rGTuxgR4FwPz"
   },
   "outputs": [],
   "source": [
    "X_treino,X_teste,y_treino,y_teste = train_test_split(X, y, random_state=42,test_size=0.3)"
   ]
  },
  {
   "cell_type": "code",
   "execution_count": null,
   "metadata": {
    "id": "bcAwIPsonRhd"
   },
   "outputs": [],
   "source": [
    "# Função para fazer o comparativo no resultado dos diferentes modelos\n",
    "\n",
    "def verifica_acurácia(modelo):\n",
    "\n",
    "  modelo.fit(X_treino,y_treino)\n",
    "  predict = modelo.predict(X_teste)\n",
    "\n",
    "  print(classification_report(y_teste,predict))"
   ]
  },
  {
   "cell_type": "markdown",
   "metadata": {
    "id": "5Bcvy_c9EM_W"
   },
   "source": [
    "Para comparação foi utilizado um modelos svm, uma árvore de decisão e floresta aleatória\n",
    "____"
   ]
  },
  {
   "cell_type": "code",
   "execution_count": null,
   "metadata": {
    "id": "x2l28uUMiOMf"
   },
   "outputs": [],
   "source": [
    "modelo_svm = SVC(random_state=42)\n",
    "modelo_tree = DecisionTreeClassifier(random_state=42)\n",
    "modelo_ensemble = RandomForestClassifier(random_state=42)"
   ]
  },
  {
   "cell_type": "code",
   "execution_count": null,
   "metadata": {
    "colab": {
     "base_uri": "https://localhost:8080/"
    },
    "id": "ZwgvQE4BnRmQ",
    "outputId": "af02f68d-b9b6-4fca-860f-886d29f9b7a9"
   },
   "outputs": [],
   "source": [
    "verifica_acurácia(modelo_tree)"
   ]
  },
  {
   "cell_type": "code",
   "execution_count": null,
   "metadata": {
    "colab": {
     "base_uri": "https://localhost:8080/"
    },
    "id": "YYH5OrvOnRj1",
    "outputId": "7ea919f0-d9d8-46dc-e776-a151edd22bb0"
   },
   "outputs": [],
   "source": [
    "verifica_acurácia(modelo_svm)"
   ]
  },
  {
   "cell_type": "code",
   "execution_count": null,
   "metadata": {
    "colab": {
     "base_uri": "https://localhost:8080/"
    },
    "id": "GL0JQUUXnRrf",
    "outputId": "12b9058f-4698-4cb9-e923-46e103f42361"
   },
   "outputs": [],
   "source": [
    "verifica_acurácia(modelo_ensemble)"
   ]
  },
  {
   "cell_type": "markdown",
   "metadata": {
    "id": "VGlwA6xVsHM2"
   },
   "source": [
    "# Validação"
   ]
  },
  {
   "cell_type": "code",
   "execution_count": null,
   "metadata": {
    "colab": {
     "base_uri": "https://localhost:8080/",
     "height": 504
    },
    "id": "5TmX5GjrsK0R",
    "outputId": "4a53725a-e857-4394-f284-3b37f754efa9"
   },
   "outputs": [],
   "source": [
    "validacao"
   ]
  },
  {
   "cell_type": "code",
   "execution_count": null,
   "metadata": {
    "colab": {
     "base_uri": "https://localhost:8080/",
     "height": 419
    },
    "id": "0Y9lU2fkr58X",
    "outputId": "7201bc5a-f559-4fdf-c816-71d9b65c0040"
   },
   "outputs": [],
   "source": [
    "target[300:]"
   ]
  },
  {
   "cell_type": "code",
   "execution_count": null,
   "metadata": {
    "id": "eYPydS4T905N"
   },
   "outputs": [],
   "source": [
    "validacao_predict = modelo_ensemble.predict(validacao)"
   ]
  },
  {
   "cell_type": "code",
   "execution_count": null,
   "metadata": {
    "colab": {
     "base_uri": "https://localhost:8080/"
    },
    "id": "tPI-G4iy91EF",
    "outputId": "3c3bb146-965e-4e24-b5ac-1a78f17361ed"
   },
   "outputs": [],
   "source": [
    "print(classification_report(target[300:],validacao_predict))"
   ]
  },
  {
   "cell_type": "code",
   "execution_count": null,
   "metadata": {
    "colab": {
     "base_uri": "https://localhost:8080/",
     "height": 296
    },
    "id": "-mX6QAqeIW8G",
    "outputId": "7341f4ca-d2f6-4616-9493-a33b9e447fdf"
   },
   "outputs": [],
   "source": [
    "plot_confusion_matrix(modelo_ensemble,validacao,target[300:])"
   ]
  },
  {
   "cell_type": "markdown",
   "metadata": {
    "id": "XYtZsG3B-TZS"
   },
   "source": [
    "# Conclusão\n",
    "____"
   ]
  },
  {
   "cell_type": "markdown",
   "metadata": {
    "id": "Lhrqfz6ZEkKY"
   },
   "source": [
    "Usando como base de estudo a primeira janela de internação e o último dado de ICU que nos diz se o paciente foi internado ou não,<br>\n",
    "em conjunto com a função de seleção automática de features do scikit learn, obteve-se uma taxa de acerto de 75%.\n",
    "\n",
    "Na minha opinião, por se tratar de pacientes, é necessário um novo estudo a fim de obter uma acurácia maior na predição de pacientes que necessitarão de internação em UTI"
   ]
  }
 ],
 "metadata": {
  "colab": {
   "name": "Ederson_Branco.ipynb",
   "provenance": [],
   "toc_visible": true
  },
  "kernelspec": {
   "display_name": "Python 3",
   "language": "python",
   "name": "python3"
  },
  "language_info": {
   "codemirror_mode": {
    "name": "ipython",
    "version": 3
   },
   "file_extension": ".py",
   "mimetype": "text/x-python",
   "name": "python",
   "nbconvert_exporter": "python",
   "pygments_lexer": "ipython3",
   "version": "3.8.3"
  }
 },
 "nbformat": 4,
 "nbformat_minor": 1
}
