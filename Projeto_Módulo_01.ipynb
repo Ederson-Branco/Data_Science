{
  "nbformat": 4,
  "nbformat_minor": 0,
  "metadata": {
    "colab": {
      "name": "Projeto_Módulo_01.ipynb",
      "provenance": [],
      "collapsed_sections": [],
      "include_colab_link": true
    },
    "kernelspec": {
      "name": "python3",
      "display_name": "Python 3"
    }
  },
  "cells": [
    {
      "cell_type": "markdown",
      "metadata": {
        "id": "view-in-github",
        "colab_type": "text"
      },
      "source": [
        "<a href=\"https://colab.research.google.com/github/Ederson-Branco/Data_Science/blob/main/Projeto_Mo%CC%81dulo_01.ipynb\" target=\"_parent\"><img src=\"https://colab.research.google.com/assets/colab-badge.svg\" alt=\"Open In Colab\"/></a>"
      ]
    },
    {
      "cell_type": "markdown",
      "metadata": {
        "id": "E27fQer3E8K9"
      },
      "source": [
        "Olá **Cientista**!\n",
        "\n",
        "Bem vinda e bem vindo ao **mega desafio do Módulo 01**, neste desafio queremos que você aplique tudo que aprendeu no curso, analisando uma outra informação ~~referente a base de dados de [produção hospitalar](http://www2.datasus.gov.br/DATASUS/index.php?area=0202&id=11633&VObj=http://tabnet.datasus.gov.br/cgi/deftohtm.exe?sih/cnv/qi), seja número de internação, óbito, AIH ou taxa de mortalidade.~~ \n",
        "\n",
        "**P.S: Infelizmente o DataSUS está fora do ar por tempo indeterminado, para você não parar seu projeto, adicionamos no [GitHub](https://github.com/alura-cursos/agendamento-hospitalar/tree/main/dados) do curso, duas novas bases para você utilizar neste projeto (COVID-19 e Óbitos).**\n",
        "\n",
        "Uma base é dos **casos de COVID-19 baixadas do projeto [BRASIL.IO](https://brasil.io/dataset/covid19/caso/)**, outra são os números de óbitos registrados no cartório civil desde 1970 retirado do **[Kaggle](https://www.kaggle.com/amandalk/registered-deaths-brazil)**.\n",
        "\n",
        "Vocês podem escolher qualquer uma das duas bases de dados, a de COVID-19 é mais desafiadora e você vai precisar descompactar o arquivo por ser grande e entrar no site do Brasil.IO para entender todas as features presentes (No Brasil.IO tem diversas bases sobre COVID-19, estamos usando a chamada **Casos**). A base de óbito é mais simples e relativamente semelhate a utilizada no curso.\n",
        "\n",
        "Algumas dicas para você mandar bem no desafio final, capriche nas análises, escreva suas conclusões e hipóteses (mesmo que resultado seja inconclusivo) e não esqueça de colocar um resumo dos pontos que julgar mais interessantes do seu projeto.\n",
        "\n",
        "\n",
        "\n",
        "E para que o seu projeto tenha a oportunidade de ser avalido pelo Thiago G. Santos e Átila Iamarino, ao vivo na **live de revisão de projetos** submeta o link compartilhado do seu notebook [neste formulário](https://docs.google.com/forms/d/e/1FAIpQLSd1jemhvdo8sM6e-bgOryyZ2P3YuMO6E_mUQXabyBX_xhuZQQ/viewform?usp=sf_link) até dia 22/11 às 23h59.\n",
        "\n",
        "Para facilitar a vida dos seus instrutores favoritos, no momento da correção, algumas dicas de como estruturar seu projeto:\n",
        "\n",
        "- Como título do seu **Colab** coloque seu nome (Ex: Thiago_Gonçalves.ipynb)\n",
        "- Crie um resumo das suas análises na parte superior do notebook\n",
        "- Informe no resumo os dados que vc vai analisar (Ex: Finaceiros e Internações)\n",
        "\n",
        "Qualquer dúvida não deixe de perguntar no Discord, compatilhe seu projeto nas redes sociais e crie um repositório no github, esse é o início do seu portifólio em Data Science.\n",
        "\n",
        "\n",
        "\n",
        "Fique a vontade para utilizar esse notebook como template projeto.\n",
        "\n"
      ]
    },
    {
      "cell_type": "markdown",
      "metadata": {
        "id": "RshO3GgDFGhB"
      },
      "source": [
        "## Resumo:\n",
        "\n",
        "Faça aqui o resumo das suas analises, destacando os pontos principais do seu projeto"
      ]
    },
    {
      "cell_type": "code",
      "metadata": {
        "id": "BUHuWTjaFGMV",
        "outputId": "741bf4cd-0f1f-4984-9938-1010930a0f17",
        "colab": {
          "base_uri": "https://localhost:8080/",
          "height": 204
        }
      },
      "source": [
        "import pandas as pd\n",
        "file = 'https://raw.githubusercontent.com/Ederson-Branco/Data_Science/main/deaths_brazil.csv' \n",
        "\n",
        "dados = pd.read_csv(file)\n",
        "dados.head()"
      ],
      "execution_count": null,
      "outputs": [
        {
          "output_type": "execute_result",
          "data": {
            "text/html": [
              "<div>\n",
              "<style scoped>\n",
              "    .dataframe tbody tr th:only-of-type {\n",
              "        vertical-align: middle;\n",
              "    }\n",
              "\n",
              "    .dataframe tbody tr th {\n",
              "        vertical-align: top;\n",
              "    }\n",
              "\n",
              "    .dataframe thead th {\n",
              "        text-align: right;\n",
              "    }\n",
              "</style>\n",
              "<table border=\"1\" class=\"dataframe\">\n",
              "  <thead>\n",
              "    <tr style=\"text-align: right;\">\n",
              "      <th></th>\n",
              "      <th>year</th>\n",
              "      <th>month</th>\n",
              "      <th>state</th>\n",
              "      <th>deaths</th>\n",
              "    </tr>\n",
              "  </thead>\n",
              "  <tbody>\n",
              "    <tr>\n",
              "      <th>0</th>\n",
              "      <td>1970</td>\n",
              "      <td>1</td>\n",
              "      <td>AM</td>\n",
              "      <td>1</td>\n",
              "    </tr>\n",
              "    <tr>\n",
              "      <th>1</th>\n",
              "      <td>1970</td>\n",
              "      <td>1</td>\n",
              "      <td>BA</td>\n",
              "      <td>6</td>\n",
              "    </tr>\n",
              "    <tr>\n",
              "      <th>2</th>\n",
              "      <td>1970</td>\n",
              "      <td>1</td>\n",
              "      <td>CE</td>\n",
              "      <td>9</td>\n",
              "    </tr>\n",
              "    <tr>\n",
              "      <th>3</th>\n",
              "      <td>1970</td>\n",
              "      <td>1</td>\n",
              "      <td>DF</td>\n",
              "      <td>52</td>\n",
              "    </tr>\n",
              "    <tr>\n",
              "      <th>4</th>\n",
              "      <td>1970</td>\n",
              "      <td>1</td>\n",
              "      <td>ES</td>\n",
              "      <td>65</td>\n",
              "    </tr>\n",
              "  </tbody>\n",
              "</table>\n",
              "</div>"
            ],
            "text/plain": [
              "   year  month state  deaths\n",
              "0  1970      1    AM       1\n",
              "1  1970      1    BA       6\n",
              "2  1970      1    CE       9\n",
              "3  1970      1    DF      52\n",
              "4  1970      1    ES      65"
            ]
          },
          "metadata": {
            "tags": []
          },
          "execution_count": 6
        }
      ]
    },
    {
      "cell_type": "code",
      "metadata": {
        "id": "XlHzFwjumrjZ",
        "outputId": "3ac97c08-fc77-4323-c028-6c6a2b6f6563",
        "colab": {
          "base_uri": "https://localhost:8080/"
        }
      },
      "source": [
        "dados.info()"
      ],
      "execution_count": null,
      "outputs": [
        {
          "output_type": "stream",
          "text": [
            "<class 'pandas.core.frame.DataFrame'>\n",
            "RangeIndex: 15030 entries, 0 to 15029\n",
            "Data columns (total 4 columns):\n",
            " #   Column  Non-Null Count  Dtype \n",
            "---  ------  --------------  ----- \n",
            " 0   year    15030 non-null  int64 \n",
            " 1   month   15030 non-null  int64 \n",
            " 2   state   15030 non-null  object\n",
            " 3   deaths  15030 non-null  int64 \n",
            "dtypes: int64(3), object(1)\n",
            "memory usage: 469.8+ KB\n"
          ],
          "name": "stdout"
        }
      ]
    },
    {
      "cell_type": "code",
      "metadata": {
        "id": "6Tetc-VKmr4q",
        "outputId": "933a1130-d57f-4326-85be-ecfac4f6acaf",
        "colab": {
          "base_uri": "https://localhost:8080/"
        }
      },
      "source": [
        "dados['year'].unique()"
      ],
      "execution_count": null,
      "outputs": [
        {
          "output_type": "execute_result",
          "data": {
            "text/plain": [
              "array([1970, 1971, 1972, 1973, 1974, 1975, 1976, 1977, 1978, 1979, 1980,\n",
              "       1981, 1982, 1983, 1984, 1985, 1986, 1987, 1988, 1989, 1990, 1991,\n",
              "       1992, 1993, 1994, 1995, 1996, 1997, 1998, 1999, 2000, 2001, 2002,\n",
              "       2003, 2004, 2005, 2006, 2007, 2008, 2009, 2010, 2011, 2012, 2013,\n",
              "       2014, 2015, 2016, 2017, 2018, 2019, 2020])"
            ]
          },
          "metadata": {
            "tags": []
          },
          "execution_count": 8
        }
      ]
    },
    {
      "cell_type": "code",
      "metadata": {
        "id": "spJha-frmr_J",
        "outputId": "1eb9402d-2eef-450b-feaf-0adeaf4c8c24",
        "colab": {
          "base_uri": "https://localhost:8080/",
          "height": 419
        }
      },
      "source": [
        "selecao = dados['state'] == 'SC'\n",
        "dados[selecao]"
      ],
      "execution_count": null,
      "outputs": [
        {
          "output_type": "execute_result",
          "data": {
            "text/html": [
              "<div>\n",
              "<style scoped>\n",
              "    .dataframe tbody tr th:only-of-type {\n",
              "        vertical-align: middle;\n",
              "    }\n",
              "\n",
              "    .dataframe tbody tr th {\n",
              "        vertical-align: top;\n",
              "    }\n",
              "\n",
              "    .dataframe thead th {\n",
              "        text-align: right;\n",
              "    }\n",
              "</style>\n",
              "<table border=\"1\" class=\"dataframe\">\n",
              "  <thead>\n",
              "    <tr style=\"text-align: right;\">\n",
              "      <th></th>\n",
              "      <th>year</th>\n",
              "      <th>month</th>\n",
              "      <th>state</th>\n",
              "      <th>deaths</th>\n",
              "    </tr>\n",
              "  </thead>\n",
              "  <tbody>\n",
              "    <tr>\n",
              "      <th>16</th>\n",
              "      <td>1970</td>\n",
              "      <td>1</td>\n",
              "      <td>SC</td>\n",
              "      <td>266</td>\n",
              "    </tr>\n",
              "    <tr>\n",
              "      <th>33</th>\n",
              "      <td>1970</td>\n",
              "      <td>2</td>\n",
              "      <td>SC</td>\n",
              "      <td>233</td>\n",
              "    </tr>\n",
              "    <tr>\n",
              "      <th>49</th>\n",
              "      <td>1970</td>\n",
              "      <td>3</td>\n",
              "      <td>SC</td>\n",
              "      <td>255</td>\n",
              "    </tr>\n",
              "    <tr>\n",
              "      <th>67</th>\n",
              "      <td>1970</td>\n",
              "      <td>4</td>\n",
              "      <td>SC</td>\n",
              "      <td>227</td>\n",
              "    </tr>\n",
              "    <tr>\n",
              "      <th>84</th>\n",
              "      <td>1970</td>\n",
              "      <td>5</td>\n",
              "      <td>SC</td>\n",
              "      <td>214</td>\n",
              "    </tr>\n",
              "    <tr>\n",
              "      <th>...</th>\n",
              "      <td>...</td>\n",
              "      <td>...</td>\n",
              "      <td>...</td>\n",
              "      <td>...</td>\n",
              "    </tr>\n",
              "    <tr>\n",
              "      <th>14918</th>\n",
              "      <td>2020</td>\n",
              "      <td>4</td>\n",
              "      <td>SC</td>\n",
              "      <td>3596</td>\n",
              "    </tr>\n",
              "    <tr>\n",
              "      <th>14945</th>\n",
              "      <td>2020</td>\n",
              "      <td>5</td>\n",
              "      <td>SC</td>\n",
              "      <td>3196</td>\n",
              "    </tr>\n",
              "    <tr>\n",
              "      <th>14972</th>\n",
              "      <td>2020</td>\n",
              "      <td>6</td>\n",
              "      <td>SC</td>\n",
              "      <td>3637</td>\n",
              "    </tr>\n",
              "    <tr>\n",
              "      <th>14999</th>\n",
              "      <td>2020</td>\n",
              "      <td>7</td>\n",
              "      <td>SC</td>\n",
              "      <td>4450</td>\n",
              "    </tr>\n",
              "    <tr>\n",
              "      <th>15026</th>\n",
              "      <td>2020</td>\n",
              "      <td>8</td>\n",
              "      <td>SC</td>\n",
              "      <td>4666</td>\n",
              "    </tr>\n",
              "  </tbody>\n",
              "</table>\n",
              "<p>608 rows × 4 columns</p>\n",
              "</div>"
            ],
            "text/plain": [
              "       year  month state  deaths\n",
              "16     1970      1    SC     266\n",
              "33     1970      2    SC     233\n",
              "49     1970      3    SC     255\n",
              "67     1970      4    SC     227\n",
              "84     1970      5    SC     214\n",
              "...     ...    ...   ...     ...\n",
              "14918  2020      4    SC    3596\n",
              "14945  2020      5    SC    3196\n",
              "14972  2020      6    SC    3637\n",
              "14999  2020      7    SC    4450\n",
              "15026  2020      8    SC    4666\n",
              "\n",
              "[608 rows x 4 columns]"
            ]
          },
          "metadata": {
            "tags": []
          },
          "execution_count": 10
        }
      ]
    },
    {
      "cell_type": "code",
      "metadata": {
        "id": "jcfEkSgimsCq",
        "outputId": "eabf0306-6ed3-4d95-a48b-f829960d9dcb",
        "colab": {
          "base_uri": "https://localhost:8080/",
          "height": 296
        }
      },
      "source": [
        "dados[selecao].plot(x='year',y='deaths')"
      ],
      "execution_count": null,
      "outputs": [
        {
          "output_type": "execute_result",
          "data": {
            "text/plain": [
              "<matplotlib.axes._subplots.AxesSubplot at 0x7f7789433eb8>"
            ]
          },
          "metadata": {
            "tags": []
          },
          "execution_count": 20
        },
        {
          "output_type": "display_data",
          "data": {
            "image/png": "[encoded data removed]",
            "text/plain": [
              "<Figure size 432x288 with 1 Axes>"
            ]
          },
          "metadata": {
            "tags": [],
            "needs_background": "light"
          }
        }
      ]
    },
    {
      "cell_type": "code",
      "metadata": {
        "id": "99A0nIdOmsGX",
        "outputId": "8a6b700c-28df-488d-84f5-f63a76ccde59",
        "colab": {
          "base_uri": "https://localhost:8080/",
          "height": 421
        }
      },
      "source": [
        "dados[selecao].tail(12)"
      ],
      "execution_count": null,
      "outputs": [
        {
          "output_type": "execute_result",
          "data": {
            "text/html": [
              "<div>\n",
              "<style scoped>\n",
              "    .dataframe tbody tr th:only-of-type {\n",
              "        vertical-align: middle;\n",
              "    }\n",
              "\n",
              "    .dataframe tbody tr th {\n",
              "        vertical-align: top;\n",
              "    }\n",
              "\n",
              "    .dataframe thead th {\n",
              "        text-align: right;\n",
              "    }\n",
              "</style>\n",
              "<table border=\"1\" class=\"dataframe\">\n",
              "  <thead>\n",
              "    <tr style=\"text-align: right;\">\n",
              "      <th></th>\n",
              "      <th>year</th>\n",
              "      <th>month</th>\n",
              "      <th>state</th>\n",
              "      <th>deaths</th>\n",
              "    </tr>\n",
              "  </thead>\n",
              "  <tbody>\n",
              "    <tr>\n",
              "      <th>14729</th>\n",
              "      <td>2019</td>\n",
              "      <td>9</td>\n",
              "      <td>SC</td>\n",
              "      <td>3749</td>\n",
              "    </tr>\n",
              "    <tr>\n",
              "      <th>14756</th>\n",
              "      <td>2019</td>\n",
              "      <td>10</td>\n",
              "      <td>SC</td>\n",
              "      <td>3740</td>\n",
              "    </tr>\n",
              "    <tr>\n",
              "      <th>14783</th>\n",
              "      <td>2019</td>\n",
              "      <td>11</td>\n",
              "      <td>SC</td>\n",
              "      <td>3284</td>\n",
              "    </tr>\n",
              "    <tr>\n",
              "      <th>14810</th>\n",
              "      <td>2019</td>\n",
              "      <td>12</td>\n",
              "      <td>SC</td>\n",
              "      <td>3157</td>\n",
              "    </tr>\n",
              "    <tr>\n",
              "      <th>14837</th>\n",
              "      <td>2020</td>\n",
              "      <td>1</td>\n",
              "      <td>SC</td>\n",
              "      <td>3797</td>\n",
              "    </tr>\n",
              "    <tr>\n",
              "      <th>14864</th>\n",
              "      <td>2020</td>\n",
              "      <td>2</td>\n",
              "      <td>SC</td>\n",
              "      <td>3022</td>\n",
              "    </tr>\n",
              "    <tr>\n",
              "      <th>14891</th>\n",
              "      <td>2020</td>\n",
              "      <td>3</td>\n",
              "      <td>SC</td>\n",
              "      <td>3039</td>\n",
              "    </tr>\n",
              "    <tr>\n",
              "      <th>14918</th>\n",
              "      <td>2020</td>\n",
              "      <td>4</td>\n",
              "      <td>SC</td>\n",
              "      <td>3596</td>\n",
              "    </tr>\n",
              "    <tr>\n",
              "      <th>14945</th>\n",
              "      <td>2020</td>\n",
              "      <td>5</td>\n",
              "      <td>SC</td>\n",
              "      <td>3196</td>\n",
              "    </tr>\n",
              "    <tr>\n",
              "      <th>14972</th>\n",
              "      <td>2020</td>\n",
              "      <td>6</td>\n",
              "      <td>SC</td>\n",
              "      <td>3637</td>\n",
              "    </tr>\n",
              "    <tr>\n",
              "      <th>14999</th>\n",
              "      <td>2020</td>\n",
              "      <td>7</td>\n",
              "      <td>SC</td>\n",
              "      <td>4450</td>\n",
              "    </tr>\n",
              "    <tr>\n",
              "      <th>15026</th>\n",
              "      <td>2020</td>\n",
              "      <td>8</td>\n",
              "      <td>SC</td>\n",
              "      <td>4666</td>\n",
              "    </tr>\n",
              "  </tbody>\n",
              "</table>\n",
              "</div>"
            ],
            "text/plain": [
              "       year  month state  deaths\n",
              "14729  2019      9    SC    3749\n",
              "14756  2019     10    SC    3740\n",
              "14783  2019     11    SC    3284\n",
              "14810  2019     12    SC    3157\n",
              "14837  2020      1    SC    3797\n",
              "14864  2020      2    SC    3022\n",
              "14891  2020      3    SC    3039\n",
              "14918  2020      4    SC    3596\n",
              "14945  2020      5    SC    3196\n",
              "14972  2020      6    SC    3637\n",
              "14999  2020      7    SC    4450\n",
              "15026  2020      8    SC    4666"
            ]
          },
          "metadata": {
            "tags": []
          },
          "execution_count": 21
        }
      ]
    },
    {
      "cell_type": "markdown",
      "metadata": {
        "id": "YJaNprdeFN7n"
      },
      "source": [
        "## Análise dos dados:\n",
        "\n",
        "Inicie aqui o desenvolvimento do seu projeto, não esqueça de adicionar textos curtos e objetivos para que os avaliadores entendam sua linha de raciocínio e as conclusões que você está chegando crie uma narrativa convincente e coerênte aos dados analisados."
      ]
    },
    {
      "cell_type": "code",
      "metadata": {
        "id": "zw4S_LkkFNa2"
      },
      "source": [
        ""
      ],
      "execution_count": null,
      "outputs": []
    },
    {
      "cell_type": "code",
      "metadata": {
        "id": "wWHrc23HMW07"
      },
      "source": [
        ""
      ],
      "execution_count": null,
      "outputs": []
    },
    {
      "cell_type": "markdown",
      "metadata": {
        "id": "D3xSuSGmXBZU"
      },
      "source": [
        "# teste salvamento github"
      ]
    },
    {
      "cell_type": "markdown",
      "metadata": {
        "id": "AePJhfAuXM5P"
      },
      "source": [
        "# teste alterações"
      ]
    }
  ]
}