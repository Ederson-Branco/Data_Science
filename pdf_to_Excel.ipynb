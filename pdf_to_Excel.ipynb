{
  "nbformat": 4,
  "nbformat_minor": 0,
  "metadata": {
    "colab": {
      "name": "pdf_to_Excel.ipynb",
      "provenance": [],
      "collapsed_sections": [],
      "authorship_tag": "ABX9TyOvMdBhy5JOZEyLRnOem5BD",
      "include_colab_link": true
    },
    "kernelspec": {
      "name": "python3",
      "display_name": "Python 3"
    }
  },
  "cells": [
    {
      "cell_type": "markdown",
      "metadata": {
        "id": "view-in-github",
        "colab_type": "text"
      },
      "source": [
        "<a href=\"https://colab.research.google.com/github/Ederson-Branco/Data_Science/blob/main/pdf_to_Excel.ipynb\" target=\"_parent\"><img src=\"https://colab.research.google.com/assets/colab-badge.svg\" alt=\"Open In Colab\"/></a>"
      ]
    },
    {
      "cell_type": "code",
      "metadata": {
        "id": "umRiBd9lSOw-",
        "colab": {
          "base_uri": "https://localhost:8080/"
        },
        "outputId": "332544fb-6fab-4c1c-8a80-52eae1a4dd6e"
      },
      "source": [
        "# Instala a biblioteca tabula-py para leitura do pdf\n",
        "!pip install tabula-py"
      ],
      "execution_count": null,
      "outputs": [
        {
          "output_type": "stream",
          "text": [
            "Collecting tabula-py\n",
            "\u001b[?25l  Downloading https://files.pythonhosted.org/packages/cf/29/d6cb0d77ef46d84d35cffa09cf42c73b373aea664d28604eab6818f8a47c/tabula_py-2.2.0-py3-none-any.whl (11.7MB)\n",
            "\u001b[K     |████████████████████████████████| 11.7MB 5.1MB/s \n",
            "\u001b[?25hRequirement already satisfied: numpy in /usr/local/lib/python3.7/dist-packages (from tabula-py) (1.19.5)\n",
            "Requirement already satisfied: pandas>=0.25.3 in /usr/local/lib/python3.7/dist-packages (from tabula-py) (1.1.5)\n",
            "Collecting distro\n",
            "  Downloading https://files.pythonhosted.org/packages/25/b7/b3c4270a11414cb22c6352ebc7a83aaa3712043be29daa05018fd5a5c956/distro-1.5.0-py2.py3-none-any.whl\n",
            "Requirement already satisfied: pytz>=2017.2 in /usr/local/lib/python3.7/dist-packages (from pandas>=0.25.3->tabula-py) (2018.9)\n",
            "Requirement already satisfied: python-dateutil>=2.7.3 in /usr/local/lib/python3.7/dist-packages (from pandas>=0.25.3->tabula-py) (2.8.1)\n",
            "Requirement already satisfied: six>=1.5 in /usr/local/lib/python3.7/dist-packages (from python-dateutil>=2.7.3->pandas>=0.25.3->tabula-py) (1.15.0)\n",
            "Installing collected packages: distro, tabula-py\n",
            "Successfully installed distro-1.5.0 tabula-py-2.2.0\n"
          ],
          "name": "stdout"
        }
      ]
    },
    {
      "cell_type": "code",
      "metadata": {
        "id": "L_rbejBASOzd",
        "colab": {
          "base_uri": "https://localhost:8080/"
        },
        "outputId": "693369dd-9af8-43a2-eda7-de50261fe3d9"
      },
      "source": [
        "'''\n",
        "Importando as bibliotecas e carregando o documento pdf\n",
        "'''\n",
        "\n",
        "from tabula import read_pdf\n",
        "import pandas as pd\n",
        "df2 = read_pdf('/content/conector.pdf',pages=\"all\",guess=False)\n",
        "df3 = pd.DataFrame(df2)"
      ],
      "execution_count": null,
      "outputs": [
        {
          "output_type": "stream",
          "text": [
            "/usr/local/lib/python3.7/dist-packages/pandas/core/internals/construction.py:305: VisibleDeprecationWarning: Creating an ndarray from ragged nested sequences (which is a list-or-tuple of lists-or-tuples-or ndarrays with different lengths or shapes) is deprecated. If you meant to do this, you must specify 'dtype=object' when creating the ndarray\n",
            "  values = np.array([convert(v) for v in values])\n"
          ],
          "name": "stderr"
        }
      ]
    },
    {
      "cell_type": "code",
      "metadata": {
        "id": "5aur_wjLUSJe"
      },
      "source": [
        "'''\n",
        "Função usada para excluir linhas vazias que são geradas quando existe quebra de \n",
        "linha no nome da norma\n",
        "'''\n",
        "def filtra_linhas_nao_vazias(serie,index):\n",
        "  coluna_2 = df3[0][index].columns[2]\n",
        "  selecao = df3[0][index][coluna_2].notna()\n",
        "  return serie[selecao]"
      ],
      "execution_count": null,
      "outputs": []
    },
    {
      "cell_type": "code",
      "metadata": {
        "id": "s6V5WPn-I_g4"
      },
      "source": [
        "'''\n",
        "Função para extrair o nome do colaborador\n",
        "'''\n",
        "def retorna_nome(index):\n",
        "\n",
        "  coluna_2 = df3[0][index].columns[2]\n",
        "\n",
        "  # Extraindo a linha 4 da coluna 2, onde está o nome\n",
        "  nome_agrupado = df3[0][index][coluna_2].iloc[4]\n",
        "  nome_agrupado = nome_agrupado.split()\n",
        "\n",
        "  # Laço que seleciona o nome (Quando possui só letras maiúscula) \n",
        "  nome_colaborador_lista = []\n",
        "  for i in nome_agrupado:\n",
        "    if i == i.upper():\n",
        "      nome_colaborador_lista.append(i)\n",
        "\n",
        "  # Laço para alterar o nome de lista para string\n",
        "  nome_colaborador_string = ''\n",
        "  for i in nome_colaborador_lista:\n",
        "      nome_colaborador_string = nome_colaborador_string + ' ' + i\n",
        "  nome_colaborador_string = nome_colaborador_string.strip() #Exclui o primeiro espaço em branco\n",
        "\n",
        "  return nome_colaborador_string"
      ],
      "execution_count": null,
      "outputs": []
    },
    {
      "cell_type": "code",
      "metadata": {
        "id": "I0FDI_eENHzu"
      },
      "source": [
        "'''\n",
        "Função para extrair a listagem de normas e o código de conhecimento\n",
        "'''\n",
        "\n",
        "def retorna_lista_normas(index):\n",
        "\n",
        "  # Slecionando a coluna 1 onde estão os dados das normas\n",
        "  coluna_1 = df3[0][index].columns[0]\n",
        "  lista_normas = df3[0][index][coluna_1]\n",
        "  lista_normas = filtra_linhas_nao_vazias(lista_normas,index)\n",
        "\n",
        "  conhecimento = []\n",
        "  normas = []\n",
        "  # Laço para extrair o código do conhecimento e o nome da norma\n",
        "  for i,j in enumerate(lista_normas):\n",
        "    if i > 4 and i < len(lista_normas) - 1:\n",
        "      normas_split = j.split()\n",
        "      conhecimento.append(normas_split[0])\n",
        "\n",
        "      normas_string = ''\n",
        "      # Laço para alterar o nome da norma de lista para string\n",
        "      for i,j in enumerate(normas_split):\n",
        "        if i > 0 :\n",
        "          normas_string = normas_string + ' ' + j\n",
        "      normas.append(normas_string.strip()) #Exclui o primeiro espaço em branco\n",
        "      \n",
        "  return conhecimento,normas"
      ],
      "execution_count": null,
      "outputs": []
    },
    {
      "cell_type": "code",
      "metadata": {
        "id": "9iL-iurBXRTF"
      },
      "source": [
        "'''\n",
        "Função para extrair o número de revisão da norma e da tlt\n",
        "'''\n",
        "\n",
        "def retorna_revisoes(index):\n",
        "  coluna_2 = df3[0][index].columns[2]\n",
        "  lista_revisoes = df3[0][index][coluna_2]\n",
        "  lista_revisoes = filtra_linhas_nao_vazias(lista_revisoes,index)\n",
        "  revisao_norma = []\n",
        "  revisao_tlt = []\n",
        "\n",
        "  # Laço para extrair o número da revisão_tlt e revisão_norma\n",
        "  for i,j in enumerate(lista_revisoes):\n",
        "    if i > 4 and i < len(lista_revisoes) - 1:\n",
        "      revisao_norma.append(j.split()[-1])\n",
        "      # Coloca um zero quando o valor está em branco\n",
        "      if j.split()[-3] ==  'a':\n",
        "        revisao_tlt.append('0')\n",
        "      else:\n",
        "        revisao_tlt.append((j.split()[-3]))\n",
        "\n",
        "  return revisao_tlt,revisao_norma\n"
      ],
      "execution_count": null,
      "outputs": []
    },
    {
      "cell_type": "code",
      "metadata": {
        "colab": {
          "base_uri": "https://localhost:8080/",
          "height": 589
        },
        "id": "C7UaBwiFbp5U",
        "outputId": "7c815419-c821-4d61-e7c2-6c3545f3c73f"
      },
      "source": [
        "'''\n",
        "Criando o dataframe\n",
        "'''\n",
        "dataframe = pd.DataFrame()                                                \n",
        "for index in range(df3.shape[0]):  \n",
        "  colaborador = retorna_nome(index)                                      \n",
        "  conhecimento,descricao = retorna_lista_normas(index)\n",
        "  rev_tlt,rev_normas = retorna_revisoes(index)\n",
        "\n",
        "  dados = {'Conhecimento':conhecimento,'Descrição_Norma':descricao,'Colaborador': colaborador,\n",
        "            'Rev_TLT':rev_tlt,'Rev_Norma':rev_normas}\n",
        "\n",
        "  dataframe = pd.concat([dataframe,pd.DataFrame(dados)],ignore_index=True) \n",
        "\n",
        "dataframe"
      ],
      "execution_count": null,
      "outputs": [
        {
          "output_type": "execute_result",
          "data": {
            "text/html": [
              "<div>\n",
              "<style scoped>\n",
              "    .dataframe tbody tr th:only-of-type {\n",
              "        vertical-align: middle;\n",
              "    }\n",
              "\n",
              "    .dataframe tbody tr th {\n",
              "        vertical-align: top;\n",
              "    }\n",
              "\n",
              "    .dataframe thead th {\n",
              "        text-align: right;\n",
              "    }\n",
              "</style>\n",
              "<table border=\"1\" class=\"dataframe\">\n",
              "  <thead>\n",
              "    <tr style=\"text-align: right;\">\n",
              "      <th></th>\n",
              "      <th>Conhecimento</th>\n",
              "      <th>Descrição_Norma</th>\n",
              "      <th>Colaborador</th>\n",
              "      <th>Rev_TLT</th>\n",
              "      <th>Rev_Norma</th>\n",
              "    </tr>\n",
              "  </thead>\n",
              "  <tbody>\n",
              "    <tr>\n",
              "      <th>0</th>\n",
              "      <td>31252</td>\n",
              "      <td>WPM-1453 PT : NÃO CONFORMIDADES E AÇÕES CORRET...</td>\n",
              "      <td>ADEMIR DOS SANTOS</td>\n",
              "      <td>11</td>\n",
              "      <td>18</td>\n",
              "    </tr>\n",
              "    <tr>\n",
              "      <th>1</th>\n",
              "      <td>31394</td>\n",
              "      <td>WPM-2094 PT : ADMINISTRAR GARANTIAS DE PRODUTO</td>\n",
              "      <td>ADEMIR DOS SANTOS</td>\n",
              "      <td>21</td>\n",
              "      <td>24</td>\n",
              "    </tr>\n",
              "    <tr>\n",
              "      <th>2</th>\n",
              "      <td>31742</td>\n",
              "      <td>WPM-2350 PT : PROCESSAR DEVOLUÇÕES DE CLIENTES</td>\n",
              "      <td>ADEMIR DOS SANTOS</td>\n",
              "      <td>6</td>\n",
              "      <td>11</td>\n",
              "    </tr>\n",
              "    <tr>\n",
              "      <th>3</th>\n",
              "      <td>30429</td>\n",
              "      <td>WPM-24063 PT : CONTROLE DE DOCUMENTOS DEPARTAM...</td>\n",
              "      <td>ADEMIR DOS SANTOS</td>\n",
              "      <td>2</td>\n",
              "      <td>4</td>\n",
              "    </tr>\n",
              "    <tr>\n",
              "      <th>4</th>\n",
              "      <td>31501</td>\n",
              "      <td>WPR-24891 PT : TRATATIVA PARA NÃO CONFORMIDADE...</td>\n",
              "      <td>ADEMIR DOS SANTOS</td>\n",
              "      <td>1</td>\n",
              "      <td>3</td>\n",
              "    </tr>\n",
              "    <tr>\n",
              "      <th>...</th>\n",
              "      <td>...</td>\n",
              "      <td>...</td>\n",
              "      <td>...</td>\n",
              "      <td>...</td>\n",
              "      <td>...</td>\n",
              "    </tr>\n",
              "    <tr>\n",
              "      <th>215</th>\n",
              "      <td>26628</td>\n",
              "      <td>WPS-4459 PT : DETERMINAÇÃO DA COR DE PIGMENTOS...</td>\n",
              "      <td>VANDERLEI BERTOL</td>\n",
              "      <td>2</td>\n",
              "      <td>3</td>\n",
              "    </tr>\n",
              "    <tr>\n",
              "      <th>216</th>\n",
              "      <td>22474</td>\n",
              "      <td>WPS-6301 PT : PLANO DE AMOSTRAGEM PARA MATÉRIA...</td>\n",
              "      <td>VANDERLEI BERTOL</td>\n",
              "      <td>21</td>\n",
              "      <td>23</td>\n",
              "    </tr>\n",
              "    <tr>\n",
              "      <th>217</th>\n",
              "      <td>40322</td>\n",
              "      <td>WPS-27244 PT : PROCEDIMENTOS PARA DISSIPAÇÃO D...</td>\n",
              "      <td>VANESSA SCHMIDT</td>\n",
              "      <td>1</td>\n",
              "      <td>2</td>\n",
              "    </tr>\n",
              "    <tr>\n",
              "      <th>218</th>\n",
              "      <td>41855</td>\n",
              "      <td>WFR-27522 PT : KaizenWEG - Sugestão</td>\n",
              "      <td>WILLIAN SILVA DE SOUSA</td>\n",
              "      <td>3</td>\n",
              "      <td>4</td>\n",
              "    </tr>\n",
              "    <tr>\n",
              "      <th>219</th>\n",
              "      <td>40322</td>\n",
              "      <td>WPS-27244 PT : PROCEDIMENTOS PARA DISSIPAÇÃO D...</td>\n",
              "      <td>WILLIAN SILVA DE SOUSA</td>\n",
              "      <td>1</td>\n",
              "      <td>2</td>\n",
              "    </tr>\n",
              "  </tbody>\n",
              "</table>\n",
              "<p>220 rows × 5 columns</p>\n",
              "</div>"
            ],
            "text/plain": [
              "    Conhecimento  ... Rev_Norma\n",
              "0          31252  ...        18\n",
              "1          31394  ...        24\n",
              "2          31742  ...        11\n",
              "3          30429  ...         4\n",
              "4          31501  ...         3\n",
              "..           ...  ...       ...\n",
              "215        26628  ...         3\n",
              "216        22474  ...        23\n",
              "217        40322  ...         2\n",
              "218        41855  ...         4\n",
              "219        40322  ...         2\n",
              "\n",
              "[220 rows x 5 columns]"
            ]
          },
          "metadata": {
            "tags": []
          },
          "execution_count": 18
        }
      ]
    },
    {
      "cell_type": "code",
      "metadata": {
        "id": "Ujr4G4gogHRm"
      },
      "source": [
        "'''\n",
        "Convertendo valores numéricos em int64\n",
        "'''\n",
        "dataframe[['Conhecimento','Rev_TLT','Rev_Norma']] = dataframe[['Conhecimento','Rev_TLT','Rev_Norma']].astype('int')"
      ],
      "execution_count": null,
      "outputs": []
    },
    {
      "cell_type": "code",
      "metadata": {
        "colab": {
          "base_uri": "https://localhost:8080/"
        },
        "id": "N9ssJ4VcdTfI",
        "outputId": "201a8b81-fb15-4253-cbb0-2f2a280c46f2"
      },
      "source": [
        "'''\n",
        "Verificando a listagem de colaboradores\n",
        "'''\n",
        "dataframe.Colaborador.unique()"
      ],
      "execution_count": null,
      "outputs": [
        {
          "output_type": "execute_result",
          "data": {
            "text/plain": [
              "array(['ADEMIR DOS SANTOS', 'ANDREI GABRIEL MICHALAK',\n",
              "       'BRUNO HORST DEMATHE', 'CARLOS STAHL', 'CLODOALDO DE SOUZA',\n",
              "       'DANUBIA MOSER FRAGA', 'DEBORA CRISTINA HINDGES KLAUS',\n",
              "       'EDERSON LUIS BRANCO', 'ENDRIU DE OLIVEIRA MELO',\n",
              "       'FABIANA SCHRAMM FERREIRA', 'GABRIELA DE ANDRADE MONTEIRO',\n",
              "       'JEAN CARLOS BRUCH', 'JEFFERSON CARDOSO DA SILVA EVANGELISTA',\n",
              "       'JOAO ALMIR MORSCH', 'JOCIMAR KOBERNOVICZ',\n",
              "       'JOSE MARIVALDO DA CONCEICAO SANTOS', 'JULIANE LUIZE DREWS',\n",
              "       'LEANDRO NILSEN', 'LUIZ RICARDO PINHEIRO', 'MARCO AURELIO BARUFFI',\n",
              "       'MAURICIO JOSE GORGES', 'PAULO SOARES DE OLIVEIRA',\n",
              "       'RIVELINO STEIN', 'SONIA SARDAGNA NARLOCH',\n",
              "       'VALFRIDO MAXIMILIANO MEYER SILVEIRA', 'VANDERLEI BERTOL',\n",
              "       'VANESSA SCHMIDT', 'WILLIAN SILVA DE SOUSA'], dtype=object)"
            ]
          },
          "metadata": {
            "tags": []
          },
          "execution_count": 20
        }
      ]
    },
    {
      "cell_type": "code",
      "metadata": {
        "id": "3f8Zak_-b5s3"
      },
      "source": [
        "'''\n",
        "Criada uma lista apenas com os colaboradores necessários, \n",
        "pois a listagem original trás colaboradores de outras seções\n",
        "'''\n",
        "\n",
        "colaboradores = ['ADEMIR DOS SANTOS','CARLOS STAHL','DEBORA CRISTINA HINDGES KLAUS',\n",
        "                 'EDERSON LUIS BRANCO','ENDRIU DE OLIVEIRA MELO','JEAN CARLOS BRUCH', \n",
        "                 'JEFFERSON CARDOSO DA SILVA EVANGELISTA','JOAO ALMIR MORSCH','JOCIMAR KOBERNOVICZ',\n",
        "                 'JOSE MARIVALDO DA CONCEICAO SANTOS','LEANDRO NILSEN', 'LUIZ RICARDO PINHEIRO','MARCO AURELIO BARUFFI',\n",
        "                 'MAURICIO JOSE GORGES','PAULO SOARES DE OLIVEIRA','RIVELINO STEIN', 'SONIA SARDAGNA NARLOCH',\n",
        "                 'VALFRIDO MAXIMILIANO MEYER SILVEIRA','VANDERLEI BERTOL']"
      ],
      "execution_count": null,
      "outputs": []
    },
    {
      "cell_type": "code",
      "metadata": {
        "colab": {
          "base_uri": "https://localhost:8080/",
          "height": 708
        },
        "id": "qZyCtupndxOy",
        "outputId": "437e57b5-b085-48e9-e1cc-a77e5979c98e"
      },
      "source": [
        "'''\n",
        "Realizando o filtro no dataframe para que\n",
        "retorne apenas os colaboradores que fazem parte da seção\n",
        "'''\n",
        "\n",
        "def filtra_colaboradores():\n",
        "  lista = []\n",
        "  for i in dataframe['Colaborador']:\n",
        "    if (i in colaboradores):\n",
        "      lista.append(True)\n",
        "    else:\n",
        "      lista.append(False)\n",
        "  return lista\n",
        "\n",
        "\n",
        "selecao = filtra_colaboradores()\n",
        "dataframe = dataframe[selecao]\n",
        "dataframe.drop_duplicates(inplace=True)\n",
        "dataframe.set_index('Conhecimento',inplace=True)\n",
        "dataframe"
      ],
      "execution_count": null,
      "outputs": [
        {
          "output_type": "stream",
          "text": [
            "/usr/local/lib/python3.7/dist-packages/ipykernel_launcher.py:18: SettingWithCopyWarning: \n",
            "A value is trying to be set on a copy of a slice from a DataFrame\n",
            "\n",
            "See the caveats in the documentation: https://pandas.pydata.org/pandas-docs/stable/user_guide/indexing.html#returning-a-view-versus-a-copy\n"
          ],
          "name": "stderr"
        },
        {
          "output_type": "execute_result",
          "data": {
            "text/html": [
              "<div>\n",
              "<style scoped>\n",
              "    .dataframe tbody tr th:only-of-type {\n",
              "        vertical-align: middle;\n",
              "    }\n",
              "\n",
              "    .dataframe tbody tr th {\n",
              "        vertical-align: top;\n",
              "    }\n",
              "\n",
              "    .dataframe thead th {\n",
              "        text-align: right;\n",
              "    }\n",
              "</style>\n",
              "<table border=\"1\" class=\"dataframe\">\n",
              "  <thead>\n",
              "    <tr style=\"text-align: right;\">\n",
              "      <th>Teste</th>\n",
              "      <th>Descrição_Norma</th>\n",
              "      <th>Colaborador</th>\n",
              "      <th>Rev_TLT</th>\n",
              "      <th>Rev_Norma</th>\n",
              "    </tr>\n",
              "    <tr>\n",
              "      <th>Conhecimento</th>\n",
              "      <th></th>\n",
              "      <th></th>\n",
              "      <th></th>\n",
              "      <th></th>\n",
              "    </tr>\n",
              "  </thead>\n",
              "  <tbody>\n",
              "    <tr>\n",
              "      <th>31252</th>\n",
              "      <td>WPM-1453 PT : NÃO CONFORMIDADES E AÇÕES CORRET...</td>\n",
              "      <td>ADEMIR DOS SANTOS</td>\n",
              "      <td>11</td>\n",
              "      <td>18</td>\n",
              "    </tr>\n",
              "    <tr>\n",
              "      <th>31394</th>\n",
              "      <td>WPM-2094 PT : ADMINISTRAR GARANTIAS DE PRODUTO</td>\n",
              "      <td>ADEMIR DOS SANTOS</td>\n",
              "      <td>21</td>\n",
              "      <td>24</td>\n",
              "    </tr>\n",
              "    <tr>\n",
              "      <th>31742</th>\n",
              "      <td>WPM-2350 PT : PROCESSAR DEVOLUÇÕES DE CLIENTES</td>\n",
              "      <td>ADEMIR DOS SANTOS</td>\n",
              "      <td>6</td>\n",
              "      <td>11</td>\n",
              "    </tr>\n",
              "    <tr>\n",
              "      <th>30429</th>\n",
              "      <td>WPM-24063 PT : CONTROLE DE DOCUMENTOS DEPARTAM...</td>\n",
              "      <td>ADEMIR DOS SANTOS</td>\n",
              "      <td>2</td>\n",
              "      <td>4</td>\n",
              "    </tr>\n",
              "    <tr>\n",
              "      <th>31501</th>\n",
              "      <td>WPR-24891 PT : TRATATIVA PARA NÃO CONFORMIDADE...</td>\n",
              "      <td>ADEMIR DOS SANTOS</td>\n",
              "      <td>1</td>\n",
              "      <td>3</td>\n",
              "    </tr>\n",
              "    <tr>\n",
              "      <th>...</th>\n",
              "      <td>...</td>\n",
              "      <td>...</td>\n",
              "      <td>...</td>\n",
              "      <td>...</td>\n",
              "    </tr>\n",
              "    <tr>\n",
              "      <th>22455</th>\n",
              "      <td>WPR-7703 PT : PRAZOS DE RETENÇÃO PARA ARQUIVOS...</td>\n",
              "      <td>VANDERLEI BERTOL</td>\n",
              "      <td>4</td>\n",
              "      <td>5</td>\n",
              "    </tr>\n",
              "    <tr>\n",
              "      <th>25484</th>\n",
              "      <td>WPS-3942 PT : DETERMINACAO DA ESTABILIDADE ACE...</td>\n",
              "      <td>VANDERLEI BERTOL</td>\n",
              "      <td>5</td>\n",
              "      <td>6</td>\n",
              "    </tr>\n",
              "    <tr>\n",
              "      <th>25552</th>\n",
              "      <td>WPS-4069 PT : DETERMINAÇÃO DA COR GARDNER EM B...</td>\n",
              "      <td>VANDERLEI BERTOL</td>\n",
              "      <td>6</td>\n",
              "      <td>7</td>\n",
              "    </tr>\n",
              "    <tr>\n",
              "      <th>26628</th>\n",
              "      <td>WPS-4459 PT : DETERMINAÇÃO DA COR DE PIGMENTOS...</td>\n",
              "      <td>VANDERLEI BERTOL</td>\n",
              "      <td>2</td>\n",
              "      <td>3</td>\n",
              "    </tr>\n",
              "    <tr>\n",
              "      <th>22474</th>\n",
              "      <td>WPS-6301 PT : PLANO DE AMOSTRAGEM PARA MATÉRIA...</td>\n",
              "      <td>VANDERLEI BERTOL</td>\n",
              "      <td>21</td>\n",
              "      <td>23</td>\n",
              "    </tr>\n",
              "  </tbody>\n",
              "</table>\n",
              "<p>144 rows × 4 columns</p>\n",
              "</div>"
            ],
            "text/plain": [
              "Teste                                           Descrição_Norma  ... Rev_Norma\n",
              "Conhecimento                                                     ...          \n",
              "31252         WPM-1453 PT : NÃO CONFORMIDADES E AÇÕES CORRET...  ...        18\n",
              "31394            WPM-2094 PT : ADMINISTRAR GARANTIAS DE PRODUTO  ...        24\n",
              "31742            WPM-2350 PT : PROCESSAR DEVOLUÇÕES DE CLIENTES  ...        11\n",
              "30429         WPM-24063 PT : CONTROLE DE DOCUMENTOS DEPARTAM...  ...         4\n",
              "31501         WPR-24891 PT : TRATATIVA PARA NÃO CONFORMIDADE...  ...         3\n",
              "...                                                         ...  ...       ...\n",
              "22455         WPR-7703 PT : PRAZOS DE RETENÇÃO PARA ARQUIVOS...  ...         5\n",
              "25484         WPS-3942 PT : DETERMINACAO DA ESTABILIDADE ACE...  ...         6\n",
              "25552         WPS-4069 PT : DETERMINAÇÃO DA COR GARDNER EM B...  ...         7\n",
              "26628         WPS-4459 PT : DETERMINAÇÃO DA COR DE PIGMENTOS...  ...         3\n",
              "22474         WPS-6301 PT : PLANO DE AMOSTRAGEM PARA MATÉRIA...  ...        23\n",
              "\n",
              "[144 rows x 4 columns]"
            ]
          },
          "metadata": {
            "tags": []
          },
          "execution_count": 22
        }
      ]
    },
    {
      "cell_type": "code",
      "metadata": {
        "id": "Qa4eXJ40e3Gl"
      },
      "source": [
        "'''\n",
        "Exportando o dataframe para arquivo excel\n",
        "'''\n",
        "dataframe.to_excel(\"saida.xlsx\")"
      ],
      "execution_count": null,
      "outputs": []
    },
    {
      "cell_type": "code",
      "metadata": {
        "id": "43mgLqxA2mM0"
      },
      "source": [
        "dataframe.to_csv('teste.csv')"
      ],
      "execution_count": null,
      "outputs": []
    }
  ]
}